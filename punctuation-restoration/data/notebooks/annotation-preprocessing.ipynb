{
 "cells": [
  {
   "cell_type": "code",
   "execution_count": null,
   "metadata": {
    "collapsed": false
   },
   "outputs": [],
   "source": [
    "\n",
    "!pip install spellchecker\n",
    "!pip install pyspellchecker\n",
    "#!pip install simpletransformers\n",
    "#!pip install torch\n"
   ]
  },
  {
   "cell_type": "markdown",
   "metadata": {},
   "source": [
    "## Testando limpeza/correção com manutenção dos indices\n",
    "- Com SpaCy"
   ]
  },
  {
   "cell_type": "code",
   "execution_count": 1,
   "metadata": {
    "collapsed": false,
    "ExecuteTime": {
     "end_time": "2023-08-16T22:41:01.723829700Z",
     "start_time": "2023-08-16T22:40:49.736143700Z"
    }
   },
   "outputs": [],
   "source": [
    "from __future__ import annotations\n",
    "from spacy import displacy, tokens\n",
    "from ..utils import dataset\n",
    "from ..utils.annotation import preprocess, category_filters, comparison\n"
   ]
  },
  {
   "cell_type": "code",
   "execution_count": 2,
   "outputs": [
    {
     "data": {
      "text/plain": "'3.2.4'"
     },
     "execution_count": 2,
     "metadata": {},
     "output_type": "execute_result"
    }
   ],
   "source": [
    "import spacy\n",
    "spacy.__version__"
   ],
   "metadata": {
    "collapsed": false,
    "ExecuteTime": {
     "end_time": "2023-08-16T22:41:01.737345500Z",
     "start_time": "2023-08-16T22:41:01.723829700Z"
    }
   }
  },
  {
   "cell_type": "code",
   "execution_count": 3,
   "outputs": [
    {
     "data": {
      "text/plain": "<spacy.pipeline.sentencizer.Sentencizer at 0x1ae8c2ab840>"
     },
     "execution_count": 3,
     "metadata": {},
     "output_type": "execute_result"
    }
   ],
   "source": [
    "import spacy\n",
    "nlp = spacy.load('pt_core_news_md')\n",
    "nlp.add_pipe('sentencizer')"
   ],
   "metadata": {
    "collapsed": false,
    "ExecuteTime": {
     "end_time": "2023-08-16T22:41:04.639905700Z",
     "start_time": "2023-08-16T22:41:01.737345500Z"
    }
   }
  },
  {
   "cell_type": "code",
   "execution_count": 4,
   "outputs": [],
   "source": [
    "remover = preprocess.TokenRemover()\n",
    "corrector = preprocess.TokenCorrector()\n",
    "hyperseg = preprocess.HypersegmentationCorrector()\n",
    "hyposeg = preprocess.HyposegmentationCorrector()\n",
    "#punct = preprocess.PuntuationRestorer()"
   ],
   "metadata": {
    "collapsed": false,
    "ExecuteTime": {
     "end_time": "2023-08-16T22:41:04.875268500Z",
     "start_time": "2023-08-16T22:41:04.639905700Z"
    }
   }
  },
  {
   "cell_type": "code",
   "execution_count": 5,
   "outputs": [],
   "source": [
    "def log(text: str):\n",
    "    print(text.center(80, '-'))\n",
    "\n",
    "def print_sents(doc):\n",
    "    print(*doc.sents, sep=' 🔶 ')\n",
    "\n",
    "def print_sent_starts(doc):\n",
    "    for tok in doc:\n",
    "        print(tok.is_sent_start, '\\t-->', tok.text)"
   ],
   "metadata": {
    "collapsed": false,
    "ExecuteTime": {
     "end_time": "2023-08-16T22:41:04.896742900Z",
     "start_time": "2023-08-16T22:41:04.880363400Z"
    }
   }
  },
  {
   "cell_type": "markdown",
   "source": [
    "Exemplo para Debug"
   ],
   "metadata": {
    "collapsed": false
   }
  },
  {
   "cell_type": "code",
   "execution_count": null,
   "outputs": [],
   "source": [
    "text = '''\n",
    "texto para OOV testar errus, contidos em anotassões\n",
    "OOV de trechos Ontem eu fui para Recife.\n",
    "Eu goto de uva\n",
    "Quando a menina gos tava de tinta e Marcos fes uma sur presa\n",
    "Ontem eufoi pra casa.\n",
    "'''\n",
    "doc = nlp(text)\n",
    "doc.spans['errors'] = [\n",
    "    tokens.Span(doc, 5, 6, 'ortografia'),\n",
    "    tokens.Span(doc, 9, 10, 'ortografia'),\n",
    "    tokens.Span(doc, 22, 23, 'ortografia'),\n",
    "    tokens.Span(doc, 29, 31, 'hiperseg'),\n",
    "    tokens.Span(doc, 35, 36, 'ortografia'),\n",
    "    tokens.Span(doc, 37, 39, 'hiperseg'),\n",
    "    tokens.Span(doc, 41, 42, 'hiposeg'),\n",
    "]\n",
    "displacy.render(doc, 'spans', options=dict(spans_key='errors'))"
   ],
   "metadata": {
    "collapsed": false
   }
  },
  {
   "cell_type": "code",
   "execution_count": null,
   "outputs": [],
   "source": [
    "print_sents(doc)"
   ],
   "metadata": {
    "collapsed": false
   }
  },
  {
   "cell_type": "code",
   "execution_count": null,
   "outputs": [],
   "source": [
    "displacy.render(doc, 'span', options=dict(spans_key='errors'))"
   ],
   "metadata": {
    "collapsed": false
   }
  },
  {
   "cell_type": "code",
   "execution_count": null,
   "metadata": {},
   "outputs": [],
   "source": [
    "\n",
    "\n",
    "log('REMOVENDO \"OOV\" e \"\\\\n\"')\n",
    "res = remover.remove(doc, {'OOV', '\\n'}, add_space=True)\n",
    "displacy.render(res, 'span', options=dict(spans_key='errors'))\n",
    "\n",
    "log('CORRIGINDO TEXTO')\n",
    "res = corrector.correction(res)\n",
    "displacy.render(res, 'span', options=dict(spans_key='errors'))\n",
    "\n",
    "log('CORRIGINDO HYPERSEGMENTAÇÕES')\n",
    "res = hyperseg.correction(res)\n",
    "displacy.render(res, 'span', options=dict(spans_key='errors'))\n",
    "\n",
    "log('CORRIGINDO HIPOSEGMENTAÇÕES')\n",
    "res = hyposeg.correction(res)\n",
    "displacy.render(res, 'span', options=dict(spans_key='errors'))\n",
    "\n",
    "# log('RESTAURANDO PONTUAÇÃO')\n",
    "# final = punct(res)\n",
    "# displacy.render(final, 'span', options=dict(spans_key='errors'))"
   ]
  },
  {
   "cell_type": "code",
   "execution_count": null,
   "metadata": {},
   "outputs": [],
   "source": [
    "log('Original')\n",
    "print(res)\n",
    "log('Restaurador na Biblioteca')\n",
    "#print(final)"
   ]
  },
  {
   "cell_type": "markdown",
   "metadata": {},
   "source": [
    "## Processando Textos"
   ]
  },
  {
   "cell_type": "code",
   "execution_count": null,
   "metadata": {},
   "outputs": [],
   "source": [
    "def remove_bad_tokens(doc):\n",
    "    return remover.remove(doc, words={'OOV', '\\n'}, when=lambda token: token.is_space, add_space=True)"
   ]
  },
  {
   "cell_type": "code",
   "execution_count": 7,
   "metadata": {
    "ExecuteTime": {
     "end_time": "2023-08-16T22:42:23.629572500Z",
     "start_time": "2023-08-16T22:42:22.513444500Z"
    }
   },
   "outputs": [
    {
     "name": "stdout",
     "output_type": "stream",
     "text": [
      "annot1 annot2 narrative punctuation orthography plagiarism storyline semantic syntax stylistics morphology\n",
      "Documentos: 454\n"
     ]
    }
   ],
   "source": [
    "docs = dataset.create('../../raw_datasets/', merge=False, span_key=\"annot1\")\n",
    "print(*docs[0].spans.keys())\n",
    "print('Documentos:', len(docs))"
   ]
  },
  {
   "cell_type": "code",
   "execution_count": 8,
   "outputs": [
    {
     "name": "stdout",
     "output_type": "stream",
     "text": [
      "annot1 annot2 narrative punctuation orthography plagiarism storyline semantic syntax stylistics morphology\n",
      "Documentos: 454\n"
     ]
    }
   ],
   "source": [
    "docs = dataset.create('../../raw_datasets/', merge=False, span_key=\"annot2\")\n",
    "print(*docs[0].spans.keys())\n",
    "print('Documentos:', len(docs))"
   ],
   "metadata": {
    "collapsed": false,
    "ExecuteTime": {
     "end_time": "2023-08-16T22:42:41.295715400Z",
     "start_time": "2023-08-16T22:42:39.855262Z"
    }
   }
  },
  {
   "cell_type": "code",
   "execution_count": null,
   "metadata": {
    "collapsed": false
   },
   "outputs": [],
   "source": [
    "from tqdm import tqdm"
   ]
  },
  {
   "cell_type": "code",
   "execution_count": null,
   "metadata": {},
   "outputs": [],
   "source": [
    "for i, doc in tqdm(enumerate(docs), total=len(docs)):\n",
    "    docs[i] = remove_bad_tokens(doc)"
   ]
  },
  {
   "cell_type": "code",
   "execution_count": null,
   "metadata": {},
   "outputs": [],
   "source": [
    "for i, doc in tqdm(enumerate(docs), total=len(docs)):\n",
    "    docs[i] = corrector(doc)"
   ]
  },
  {
   "cell_type": "code",
   "execution_count": null,
   "metadata": {},
   "outputs": [],
   "source": [
    "\n",
    "for i, doc in tqdm(enumerate(docs), total=len(docs)):\n",
    "    docs[i] = hyperseg(doc)\n",
    "\n",
    "# docs = process_map(hyperseg, docs, tqdm_class=tqdm, max_workers=4, chunksize=20, desc='CORRIGINDO HYPERSEGMENTAÇÕES', total=len(docs))"
   ]
  },
  {
   "cell_type": "code",
   "execution_count": null,
   "metadata": {},
   "outputs": [],
   "source": [
    "for i, doc in tqdm(enumerate(docs), total=len(docs)):\n",
    "    docs[i] = hyposeg(doc)\n",
    "\n",
    "# docs = process_map(hyposeg, docs, tqdm_class=tqdm, max_workers=4, chunksize=20, desc='CORRIGINDO HIPOSEGMENTAÇÕES', total=len(docs))"
   ]
  },
  {
   "cell_type": "code",
   "execution_count": null,
   "metadata": {},
   "outputs": [],
   "source": [
    "#docs = list(tqdm(map(punct, docs), desc='RESTAURANDO PONTUAÇÃO', total=len(docs)))"
   ]
  },
  {
   "cell_type": "markdown",
   "metadata": {},
   "source": [
    "Salvando"
   ]
  },
  {
   "cell_type": "code",
   "execution_count": null,
   "metadata": {},
   "outputs": [],
   "source": [
    "tokens.DocBin(docs=docs, store_user_data=True).to_disk('../data/apa-nlp-span-clean-fix-hyper-hypo.docbin')"
   ]
  },
  {
   "cell_type": "markdown",
   "metadata": {},
   "source": [
    "## Separando sentenças"
   ]
  },
  {
   "cell_type": "code",
   "execution_count": null,
   "outputs": [],
   "source": [
    "from spacy import tokens\n",
    "import spacy\n",
    "nlp = spacy.load('pt_core_news_md')\n",
    "nlp.add_pipe('sentencizer')"
   ],
   "metadata": {
    "collapsed": false
   }
  },
  {
   "cell_type": "code",
   "execution_count": 21,
   "metadata": {
    "collapsed": false,
    "ExecuteTime": {
     "end_time": "2023-08-16T23:03:44.186722500Z",
     "start_time": "2023-08-16T23:03:40.806327300Z"
    }
   },
   "outputs": [],
   "source": [
    "docs = list(tokens.DocBin().from_disk('../../raw_datasets/apa-nlp-span-clean-fix-hyper-hypo.docbin').get_docs(nlp.vocab))"
   ]
  },
  {
   "cell_type": "code",
   "execution_count": 22,
   "outputs": [],
   "source": [
    "def set_sentences(doc: tokens.Doc) -> tokens.Doc:\n",
    "    for tok in doc[:-1]:\n",
    "        tok.is_sent_start = doc[tok.i -1].text == '.'\n",
    "    return doc"
   ],
   "metadata": {
    "collapsed": false,
    "ExecuteTime": {
     "end_time": "2023-08-16T23:03:44.187725300Z",
     "start_time": "2023-08-16T23:03:44.094168Z"
    }
   }
  },
  {
   "cell_type": "code",
   "execution_count": 23,
   "outputs": [
    {
     "name": "stdout",
     "output_type": "stream",
     "text": [
      "meu irmã mais novo tinha desarrumado meu quarto e b r ı e c o t ı nu ei ue i pe ce b ter o Brıguei com ele ecotınuei a fazer minha pintura quando acabei minha pintura peceb que a tanta era da minha irmã mais velha entao Pedi dinheiro para minha mãe e ela me deu quando fui na loja vi que a loJa esta fechada então resolvi fazer minha propria tanta e pedi a ajuda da minha vo pegue flores colorida da minha vo e no final minha irmã mais veja amo fim\n"
     ]
    }
   ],
   "source": [
    "for doc in docs:\n",
    "    doc = set_sentences(doc)\n",
    "print_sents(docs[-1])"
   ],
   "metadata": {
    "collapsed": false,
    "ExecuteTime": {
     "end_time": "2023-08-16T23:03:45.098106900Z",
     "start_time": "2023-08-16T23:03:44.120705700Z"
    }
   }
  },
  {
   "cell_type": "code",
   "execution_count": 24,
   "metadata": {
    "collapsed": false,
    "ExecuteTime": {
     "end_time": "2023-08-16T23:03:45.135101600Z",
     "start_time": "2023-08-16T23:03:45.038673600Z"
    }
   },
   "outputs": [
    {
     "data": {
      "text/plain": "nesse dia"
     },
     "execution_count": 24,
     "metadata": {},
     "output_type": "execute_result"
    }
   ],
   "source": [
    "docs[1].spans['punctuation'][0]"
   ]
  },
  {
   "cell_type": "code",
   "execution_count": 25,
   "metadata": {
    "collapsed": false,
    "ExecuteTime": {
     "end_time": "2023-08-16T23:03:45.136100100Z",
     "start_time": "2023-08-16T23:03:45.069676800Z"
    }
   },
   "outputs": [],
   "source": [
    "import math\n",
    "def scale_number(unscaled, to_min, to_max, from_min, from_max):\n",
    "    return math.floor((to_max-to_min)*(unscaled-from_min)/(from_max-from_min)+to_min)"
   ]
  },
  {
   "cell_type": "code",
   "execution_count": 26,
   "outputs": [],
   "source": [
    "import jsonlines\n",
    "from collections import defaultdict\n",
    "import pandas as pd\n",
    "import re\n",
    "special_pattern = re.compile(r'\\s+|\\n+|/n|\\t+|-|—')\n",
    "marks = re.compile(r'\\[\\w{0,3}|\\W{0,3}\\]|\\(|\\)')\n"
   ],
   "metadata": {
    "collapsed": false,
    "ExecuteTime": {
     "end_time": "2023-08-16T23:03:45.232637200Z",
     "start_time": "2023-08-16T23:03:45.088688100Z"
    }
   }
  },
  {
   "cell_type": "code",
   "execution_count": 27,
   "outputs": [],
   "source": [
    "def join_split_words(text):\n",
    "    \"\"\"\n",
    "    Junta palavras separadas por um \\n\n",
    "    \"\"\"\n",
    "\n",
    "    text = re.sub(r'(\\w+)-\\n(\\w+)', r'\\1\\2', text)\n",
    "    text = re.sub(r'(\\w+)_\\n(\\w+)', r'\\1\\2', text)\n",
    "    return text\n",
    "\n",
    "def fix_break_lines(text):\n",
    "    text = re.sub(r'/n', '\\n', text)\n",
    "    return text\n",
    "\n",
    "\n",
    "def separate_punctuation(text):\n",
    "    text = re.sub(r'([.,?!;:])(\\w)', r'\\1 \\2', text)\n",
    "    return text\n",
    "\n",
    "def remove_before_sent(text):\n",
    "    tokens = text.split()\n",
    "    if len(tokens) > 0 and tokens[0] in [',', '.']:\n",
    "        tokens.pop(0)\n",
    "\n",
    "    return  ' '.join(tokens)\n",
    "def join_punctuation_marks(text):\n",
    "    text = re.sub(r'(\\w)\\s([.,?!;:]+)', r'\\1\\2', text)\n",
    "    return text\n",
    "\n",
    "\n",
    "def clean_text(text):\n",
    "    \"\"\"\n",
    "    Remove caracteres especiais e espaços em branco e as\n",
    "    marcações de início e fim de parágrafo e afins.\n",
    "    :param text:\n",
    "    :return:\n",
    "    \"\"\"\n",
    "    text = re.sub(r'\\[\\?\\}', '', text).strip()\n",
    "    text = re.sub(special_pattern, ' ', text)\n",
    "    text = re.sub(marks, '', text)\n",
    "    text = re.sub(r'<.*?>', '', text)\n",
    "    text = re.sub(r'\\.+', '.', text)\n",
    "    text = re.sub(r'\\\"', '', text).strip()\n",
    "    text = re.sub(r'\\[\\?\\}', '', text).strip()\n",
    "    text = re.sub(r'[*+]', '', text)\n",
    "    return ' '.join(text.split())\n",
    "\n",
    "def replace_punct(text):\n",
    "    text = re.sub(r'[!?;]', '.', text)\n",
    "    text = re.sub(r'[:]', ',', text)\n",
    "    return text"
   ],
   "metadata": {
    "collapsed": false,
    "ExecuteTime": {
     "end_time": "2023-08-16T23:03:45.453429100Z",
     "start_time": "2023-08-16T23:03:45.117102900Z"
    }
   }
  },
  {
   "cell_type": "code",
   "execution_count": 28,
   "outputs": [
    {
     "name": "stdout",
     "output_type": "stream",
     "text": [
      " olá mundo\n"
     ]
    }
   ],
   "source": [
    "print(re.sub(r'\\[.*\\]', '', '[LT] olá mundo'))"
   ],
   "metadata": {
    "collapsed": false,
    "ExecuteTime": {
     "end_time": "2023-08-16T23:03:45.483175700Z",
     "start_time": "2023-08-16T23:03:45.149099800Z"
    }
   }
  },
  {
   "cell_type": "code",
   "execution_count": 29,
   "outputs": [],
   "source": [
    "def preprocess_sentence(sent_):\n",
    "    sent_ = re.sub(r'\\[.*\\]', \"\", sent_)\n",
    "    sent_ = join_split_words(sent_)\n",
    "    sent_ = fix_break_lines(sent_)\n",
    "    sent_ = clean_text(sent_)\n",
    "    sent_ = separate_punctuation(sent_)\n",
    "    sent_ = join_punctuation_marks(sent_)\n",
    "    sent_ = replace_punct(sent_)\n",
    "    sent_ = remove_before_sent(sent_)\n",
    "    return sent_.lower()"
   ],
   "metadata": {
    "collapsed": false,
    "ExecuteTime": {
     "end_time": "2023-08-16T23:03:45.485178500Z",
     "start_time": "2023-08-16T23:03:45.168098500Z"
    }
   }
  },
  {
   "cell_type": "code",
   "execution_count": 30,
   "metadata": {
    "collapsed": false,
    "ExecuteTime": {
     "end_time": "2023-08-16T23:03:51.302455800Z",
     "start_time": "2023-08-16T23:03:45.199640100Z"
    }
   },
   "outputs": [],
   "source": [
    "\n",
    "\n",
    "def get_ner_label( annot_):\n",
    "    match_token = annot_.doc[annot.end-1].text\n",
    "    condition_1 = (match_token != \".\" and annot_.label_ == \"Erro de Pontuação\")\n",
    "    condition_3 = (match_token != \",\" and annot_.label_ == \"Erro de vírgula\")\n",
    "    condition_4 = (match_token == \",\" and annot_.label_ == \"Erro de vírgula\")\n",
    "    condition_5 = (match_token == \".\" and annot_.label_ == \"Erro de Pontuação\")\n",
    "    if condition_1:\n",
    "        label = \"I-PERIOD\"\n",
    "    elif condition_3:\n",
    "        label = \"I-COMMA\"\n",
    "    elif condition_4 or condition_5:\n",
    "        label = \"O\"\n",
    "    else:\n",
    "        raise ValueError(f\"Condition for {match_token} and label {annot.label_} not implemented \")\n",
    "\n",
    "    return label\n",
    "\n",
    "annot_id = 0\n",
    "\n",
    "results = []\n",
    "\n",
    "ner_dataset = []\n",
    "for text_id, doc in enumerate(docs):\n",
    "    documento = defaultdict(set)\n",
    "    spans = doc.spans['punctuation']\n",
    "\n",
    "    ner_tags = [\"O\"] * len(doc)\n",
    "\n",
    "    for i,token in enumerate(doc):\n",
    "        if token.text in [\".\", \";\", \"!\", \"...\", \"?\"]:\n",
    "            ner_tags[i-1] = \"I-PERIOD\"\n",
    "        elif token.text in [\",\"]:\n",
    "            ner_tags[i-1] = \"I-COMMA\"\n",
    "   \n",
    "    for  annot in comparison.merge(list(doc.sents), spans):\n",
    "\n",
    "        if len(preprocess_sentence(annot.sent.text).split()) < 3:\n",
    "            continue\n",
    "        if annot.label !=0:\n",
    "            ner_tags[annot.end -1 ] = get_ner_label(annot)\n",
    "        documento[annot.sent].add(annot)\n",
    "        sentence = preprocess_sentence(annot.sent.text)\n",
    "\n",
    "\n",
    "    ner_dataset.append({\n",
    "        'text_id':text_id,\n",
    "        'text': preprocess_sentence(doc.text),\n",
    "        'labels': ner_tags,\n",
    "        'tokens': [token.text.lower() for token in doc],\n",
    "        'tag': \"both_annotators\"\n",
    "    })\n",
    "    results.append(documento)"
   ]
  },
  {
   "cell_type": "code",
   "execution_count": 31,
   "outputs": [
    {
     "data": {
      "text/plain": "454"
     },
     "execution_count": 31,
     "metadata": {},
     "output_type": "execute_result"
    }
   ],
   "source": [
    "len(results)"
   ],
   "metadata": {
    "collapsed": false,
    "ExecuteTime": {
     "end_time": "2023-08-16T23:03:51.317987Z",
     "start_time": "2023-08-16T23:03:51.302455800Z"
    }
   }
  },
  {
   "cell_type": "code",
   "execution_count": 32,
   "outputs": [],
   "source": [
    "import json\n",
    "\n",
    "json.dump(ner_dataset, open('./both_annotators.json', 'w'), indent=4)"
   ],
   "metadata": {
    "collapsed": false,
    "ExecuteTime": {
     "end_time": "2023-08-16T23:03:51.591285700Z",
     "start_time": "2023-08-16T23:03:51.317987Z"
    }
   }
  },
  {
   "cell_type": "code",
   "execution_count": 34,
   "outputs": [],
   "source": [
    "with jsonlines.open(\"./ner_dataset.jsonl\", \"w\") as ner_writer:\n",
    "    for data in ner_dataset:\n",
    "        ner_writer.write(data)"
   ],
   "metadata": {
    "collapsed": false,
    "ExecuteTime": {
     "end_time": "2023-08-16T23:04:00.076152500Z",
     "start_time": "2023-08-16T23:03:59.981942900Z"
    }
   }
  },
  {
   "cell_type": "code",
   "execution_count": null,
   "metadata": {},
   "outputs": [],
   "source": [
    "with jsonlines.open('dataset/annotations-explainable.jsonl', mode='w') as annotations:\n",
    "    df_input = []\n",
    "    annot_id = 0\n",
    "    for text_id, dic in enumerate(results):\n",
    "        for (sent, annot) in dic.items():\n",
    "            values = set(a.label_ for a in annot)\n",
    "\n",
    "            has_punctuation_error = category_filters.Pontuação.ERRO in values\n",
    "            has_comma_error = 'Erro de vírgula' in values\n",
    "\n",
    "            label = \"pontuação correta\"\n",
    "            if has_punctuation_error and not has_comma_error:\n",
    "                label = \"error de pontuação\"\n",
    "            elif has_comma_error and not has_punctuation_error:\n",
    "                label = \"error de vírgula\"\n",
    "            elif has_punctuation_error and has_punctuation_error:\n",
    "                label = \"error de pontuação e vírgula\"\n",
    "\n",
    "            sentence = preprocess_sentence(sent.text)\n",
    "            annot_text = [preprocess_sentence(a.text).lower() for a in annot]\n",
    "\n",
    "            v = dict(\n",
    "                text_id=text_id,\n",
    "                annot_id=annot_id,\n",
    "                text=sentence,\n",
    "                label=label,\n",
    "                period=has_punctuation_error,\n",
    "                comma=has_comma_error\n",
    "            )\n",
    "            df_input.append(v)\n",
    "\n",
    "            annotations.write({\n",
    "                            'text_id':text_id,\n",
    "                            'annot_id':annot_id,\n",
    "                            'text': sentence,\n",
    "                            'label': label,\n",
    "                            'annotation_span': annot_text\n",
    "                        })\n",
    "            annot_id += 1\n",
    "    df = pd.DataFrame(df_input)"
   ]
  },
  {
   "cell_type": "code",
   "execution_count": null,
   "metadata": {
    "collapsed": false
   },
   "outputs": [],
   "source": [
    "plot1 = df[df['comma'] & ~df['period']].loc[:, [\"period\", \"comma\"]].value_counts()\n",
    "plot1"
   ]
  },
  {
   "cell_type": "code",
   "execution_count": null,
   "metadata": {
    "collapsed": false
   },
   "outputs": [],
   "source": [
    "df[df['period'] & ~df['comma']].count()"
   ]
  },
  {
   "cell_type": "code",
   "execution_count": null,
   "metadata": {
    "collapsed": false
   },
   "outputs": [],
   "source": [
    "df[df['period'] & df['comma']].count()"
   ]
  },
  {
   "cell_type": "code",
   "execution_count": null,
   "metadata": {
    "collapsed": false
   },
   "outputs": [],
   "source": [
    "df[~(df['period'] | df['comma'])]"
   ]
  },
  {
   "cell_type": "code",
   "execution_count": null,
   "metadata": {
    "collapsed": false
   },
   "outputs": [],
   "source": [
    "df[~(df['period'] | df['comma'])].count()"
   ]
  },
  {
   "cell_type": "code",
   "execution_count": null,
   "metadata": {
    "collapsed": false
   },
   "outputs": [],
   "source": [
    "import jsonlines\n",
    "with jsonlines.open('annotations.jsonl', mode='w') as writer:\n",
    "\n",
    "    for doc in tqdm(docs, total=len(docs)):\n",
    "         tokens = []\n",
    "         labels_ids = []\n",
    "         labels = []\n",
    "         for i,token in enumerate(doc):\n",
    "\n",
    "             if i < len(doc)-1 and token.text == '.' and doc[i + 1].text == '.':\n",
    "                    continue\n",
    "             tokens.append(token.text)\n",
    "             labels_ids.append(0)\n",
    "             labels.append(\"O\")\n",
    "             span_end = [spans.end-1 for spans in doc.spans['punctuation'] if spans.end-1 < len(tokens)]\n",
    "\n",
    "             for span in span_end:\n",
    "\n",
    "                 labels[span] = \"I-Punctuation Mistake\"\n",
    "                 labels_ids[span] = 1\n",
    "\n",
    "             if token.text == '.':\n",
    "\n",
    "                writer.write({\n",
    "                    'id':i,\n",
    "                    'text':doc.text,\n",
    "                     \"tokens\": tokens,\n",
    "                    'labels': labels,\n",
    "                    'labels_ids': labels_ids\n",
    "                })"
   ]
  },
  {
   "cell_type": "code",
   "execution_count": null,
   "metadata": {
    "collapsed": false
   },
   "outputs": [],
   "source": []
  }
 ],
 "metadata": {
  "kernelspec": {
   "display_name": "ml",
   "language": "python",
   "name": "python3"
  },
  "language_info": {
   "codemirror_mode": {
    "name": "ipython",
    "version": 3
   },
   "file_extension": ".py",
   "mimetype": "text/x-python",
   "name": "python",
   "nbconvert_exporter": "python",
   "pygments_lexer": "ipython3",
   "version": "3.8.12 (default, Oct 12 2021, 03:01:40) [MSC v.1916 64 bit (AMD64)]"
  },
  "orig_nbformat": 4,
  "vscode": {
   "interpreter": {
    "hash": "753a9cd0ac2a6f1aaa75a3290aff45da06de1b64c10697a29399b64b846b65ec"
   }
  }
 },
 "nbformat": 4,
 "nbformat_minor": 2
}
