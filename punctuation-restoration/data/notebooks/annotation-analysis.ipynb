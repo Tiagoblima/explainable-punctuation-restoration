{
 "cells": [
  {
   "cell_type": "markdown",
   "metadata": {},
   "source": [
    "# Concordância das Anotações de Entidades no Texto\n",
    "Este notebook analisa a concordância dos anotadores em relação as entidades identificadas no texto"
   ]
  },
  {
   "cell_type": "code",
   "execution_count": 1,
   "metadata": {},
   "outputs": [],
   "source": [
    "%%capture\n",
    "%pip install spacy~=3.4.1"
   ]
  },
  {
   "cell_type": "code",
   "execution_count": 2,
   "metadata": {},
   "outputs": [],
   "source": [
    "from spacy import tokens\n",
    "from util import dataset, show\n",
    "from util.annotation.category_filters import narrative"
   ]
  },
  {
   "cell_type": "code",
   "execution_count": 3,
   "metadata": {},
   "outputs": [],
   "source": [
    "docs = dataset.convert()"
   ]
  },
  {
   "cell_type": "code",
   "execution_count": 4,
   "metadata": {},
   "outputs": [
    {
     "data": {
      "text/plain": [
       "357"
      ]
     },
     "execution_count": 4,
     "metadata": {},
     "output_type": "execute_result"
    }
   ],
   "source": [
    "len(docs)"
   ]
  },
  {
   "cell_type": "code",
   "execution_count": 5,
   "metadata": {},
   "outputs": [
    {
     "name": "stdout",
     "output_type": "stream",
     "text": [
      "[1, 2, 3, 4, 5, 6, 7]\n"
     ]
    }
   ],
   "source": [
    "print(sorted({d.user_data['week'] for d in docs}))"
   ]
  },
  {
   "cell_type": "code",
   "execution_count": 6,
   "metadata": {},
   "outputs": [
    {
     "name": "stdout",
     "output_type": "stream",
     "text": [
      "annot1 annot2\n"
     ]
    }
   ],
   "source": [
    "print(*docs[0].spans)"
   ]
  },
  {
   "cell_type": "markdown",
   "metadata": {},
   "source": [
    "## Métricas Analisadas\n",
    "\n",
    "`quantity_agreement`: Concordância média entre os anotadores, em relação a quantidade de elementos narrativos por texto.\n",
    "\n",
    "`intersection_agreement`: Diante de todas as anotações que se intersectam, quantas têm o mesmo rótulo? (percentual)"
   ]
  },
  {
   "cell_type": "markdown",
   "metadata": {},
   "source": [
    "Exemplificando métrica"
   ]
  },
  {
   "cell_type": "code",
   "execution_count": 7,
   "metadata": {},
   "outputs": [
    {
     "name": "stdout",
     "output_type": "stream",
     "text": [
      "[00:01, narrador] 'Eu'                             | [00:01, narrador] 'Eu'                            \n",
      "[00:01, personagem] 'Eu'                           | [00:01, narrador] 'Eu'                            \n",
      "[03:04, lugar] 'casa'                              | [03:04, enredo] 'casa'                            \n",
      "[05:09, tempo] 'segunda feira às 20:10'            | [05:09, tempo] 'segunda feira às 20:10'           \n",
      "----------------------------------------------------------------------------------------------------\n",
      "[00:01, narrador] 'Eu'                             | [00:01, narrador] 'Eu'                            \n",
      "[03:04, lugar] 'casa'                              | [03:04, enredo] 'casa'                            \n",
      "[05:09, tempo] 'segunda feira às 20:10'            | [05:09, tempo] 'segunda feira às 20:10'           \n",
      "----------------------------------------------------------------------------------------------------\n"
     ]
    },
    {
     "data": {
      "text/plain": [
       "0.6666666666666666"
      ]
     },
     "execution_count": 7,
     "metadata": {},
     "output_type": "execute_result"
    }
   ],
   "source": [
    "from ..utils.annotation import comparison, analysis\n",
    "import spacy\n",
    "nlp = spacy.blank('pt')\n",
    "doc = nlp('Eu vou para casa na segunda feira às 20:10. Já na sexta feira eu nem mesmo tenho aula. hahaha')\n",
    "doc.spans['annot1'] = [\n",
    "    tokens.Span(doc, 0, 1, 'narrador'), # Eu\n",
    "    tokens.Span(doc, 0, 1, 'personagem'), # Eu < INTESECTA COM 'Eu' do annot2 mas não deve ser considerado\n",
    "    tokens.Span(doc, 3, 4, 'lugar'), # casa\n",
    "    tokens.Span(doc, 5, 9, 'tempo'), # segunda...\n",
    "]\n",
    "doc.spans['annot2'] = [\n",
    "    tokens.Span(doc, 0, 1, 'narrador'), # Eu\n",
    "    tokens.Span(doc, 3, 4, 'enredo'), # casa\n",
    "    tokens.Span(doc, 5, 9, 'tempo'), # segunda...\n",
    "    tokens.Span(doc, 12, 14, 'tempo'), # sexta... < DE FORA\n",
    "]\n",
    "show.span_pairs(*zip(*comparison.intersection(**doc.spans)))\n",
    "print('-'*100)\n",
    "show.span_pairs(*zip(*comparison.smart_intersection(**doc.spans)))\n",
    "print('-'*100)\n",
    "analysis.intersection_agreement([doc])"
   ]
  },
  {
   "cell_type": "markdown",
   "metadata": {},
   "source": [
    "Concordância média entre os anotadores, em relação a quantidade de elementos narrativos por texto."
   ]
  },
  {
   "cell_type": "code",
   "execution_count": 8,
   "metadata": {},
   "outputs": [
    {
     "data": {
      "text/plain": [
       "0.0700280112044818"
      ]
     },
     "execution_count": 8,
     "metadata": {},
     "output_type": "execute_result"
    }
   ],
   "source": [
    "analysis.quantity_agreement(docs)"
   ]
  },
  {
   "cell_type": "markdown",
   "metadata": {},
   "source": [
    "Diante de todas as anotações que se intersectam, quantas têm o mesmo rótulo? (média dos percentuais)\n"
   ]
  },
  {
   "cell_type": "code",
   "execution_count": 9,
   "metadata": {},
   "outputs": [
    {
     "data": {
      "text/plain": [
       "0.9432404540763674"
      ]
     },
     "execution_count": 9,
     "metadata": {},
     "output_type": "execute_result"
    }
   ],
   "source": [
    "analysis.intersection_agreement(docs, filter_func=narrative)"
   ]
  },
  {
   "cell_type": "markdown",
   "metadata": {},
   "source": [
    "Caso 80"
   ]
  },
  {
   "cell_type": "code",
   "execution_count": 10,
   "metadata": {},
   "outputs": [
    {
     "name": "stdout",
     "output_type": "stream",
     "text": [
      "-------------------annotator 1-------------------- | -------------------annotator 2--------------------\n",
      "[09:10, Personagem] 'mulher'                       | [06:08, Organização te] 'Um dia'                  \n",
      "[10:13, Ação] 'arcordou\\ncedo'                     | [08:10, Personagem] 'Uma mulher'                  \n",
      "[17:18, Lugar/Espaço] 'ônibus'                     | [08:13, Narrador] 'Uma mulher arcordou\\ncedo'     \n",
      "[41:42, Personagem] 'motorista'                    | [09:24, Ação] 'mulher arcordou\\ncedo para que pega\n",
      "[41:45, Ação] 'motorista saiu pra ver'             | [39:51, Ação] 'o\\nmotorista saiu pra ver o que tin\n",
      "[70:75, Ação] 'pessoas que estava\\nandando'        | [61:69, Ação] 'O motorista vio muitas pegadas\\nde \n",
      "[90:92, Personagem] 'homem esquesito'              | [81:86, Ação] 'ele foi vê quem estava'            \n",
      "                                                   | [94:101, Ação] 'O homem mandou que todos\\ndescesse\n",
      "-------------------------------------------------------------------------------------------------------- \n",
      "     O ônibus da aventura\n",
      "\t   Um dia Uma mulher arcordou\n",
      "cedo para que pegase o ônibus na\n",
      "frente de sua casa,\n",
      "quando o ônibus chegou a subiu a la-\n",
      "deira de areia, o\n",
      "motorista saiu pra ver o que tinha a-\n",
      "contecido com o ónibus que estava fu-\n",
      "maçando:\n",
      "\t   O motorista vio muitas pegadas\n",
      "de sapatos de pessoas que estava\n",
      "andando do outro Lado do ónibus\n",
      "ele foi vê quem estava Lá viu um\n",
      "homem esquesito.\n",
      "\t   O homem mandou que todos\n",
      "descessem pois ele ia ajeita o peneu\n"
     ]
    },
    {
     "data": {
      "text/plain": [
       "1"
      ]
     },
     "execution_count": 10,
     "metadata": {},
     "output_type": "execute_result"
    }
   ],
   "source": [
    "show.annotations(docs[80])\n",
    "analysis.intersection_agreement([docs[80]], narrative)"
   ]
  },
  {
   "cell_type": "markdown",
   "metadata": {},
   "source": [
    "Caso 120"
   ]
  },
  {
   "cell_type": "code",
   "execution_count": 11,
   "metadata": {},
   "outputs": [
    {
     "name": "stdout",
     "output_type": "stream",
     "text": [
      "-------------------annotator 1-------------------- | -------------------annotator 2--------------------\n",
      "[13:14, Narrador] 'eu'                             | [10:13, Organização te] 'era una vez'             \n",
      "[13:14, Personagem] 'eu'                           | [13:14, Narrador] 'eu'                            \n",
      "[17:18, Personagem] 'aniga'                        | [13:14, Personagem] 'eu'                          \n",
      "[18:23, Ação] 'brincando\\nai OOV Pintar'           | [16:18, Personagem] 'ninha aniga'                 \n",
      "[28:30, Ação] 'foi Viajar'                         | [26:30, Ação] 'agento \\nfoi Viajar'               \n",
      "[38:39, Lugar/Espaço] 'casa'                       | [41:61, Ação] 'eu cheguei Fui Pint\\nai quando eu c\n",
      "[43:45, Ação] 'Fui Pint'                           | [64:71, Ação] 'continuei a pintar ai eu durni ali'\n",
      "[49:51, Ação] 'conesei apintar'                    | [73:79, Ação] 'acordei ai Fui to nar café'        \n",
      "[64:67, Ação] 'continuei a pintar'                 |                                                   \n",
      "[69:74, Ação] 'durni ali eu\\nacordei'              |                                                   \n",
      "[75:79, Ação] 'Fui to nar café'                    |                                                   \n",
      "-------------------------------------------------------------------------------------------------------- \n",
      "     Pintura \n",
      "Maria julia Araujo Barros\n",
      "OOVOOVOOVOOV\n",
      "era una vez eu e ai ninha aniga brincando\n",
      "ai OOV Pintar OOV OOV ai agento \n",
      "foi Viajar ai agentOOV Passou nuito OOV\n",
      "fora de casa ai quando eu cheguei Fui Pint\n",
      "ai quando eu conesei apintar eu escutei um \n",
      "barulho estranho no lado di fura. ai\n",
      "continuei a pintar ai eu durni ali eu\n",
      "acordei ai Fui to nar café quan eu \n",
      "ai quando eu acabei de brincar Fui \n",
      "ternina de Pintar a parede ai eu terni\n",
      "a parade eu escutei um barulho\n",
      "estranho quando eu olhei um no OOV\n",
      "aninal\n"
     ]
    },
    {
     "data": {
      "text/plain": [
       "1"
      ]
     },
     "execution_count": 11,
     "metadata": {},
     "output_type": "execute_result"
    }
   ],
   "source": [
    "show.annotations(docs[120])\n",
    "analysis.intersection_agreement([docs[120]], narrative)"
   ]
  },
  {
   "cell_type": "markdown",
   "metadata": {},
   "source": [
    "### Observando o caso do doc 118"
   ]
  },
  {
   "cell_type": "code",
   "execution_count": 12,
   "metadata": {},
   "outputs": [
    {
     "name": "stdout",
     "output_type": "stream",
     "text": [
      "-------------------annotator 1-------------------- | -------------------annotator 2--------------------\n",
      "[11:12, Narrador] 'Eu'                             | [11:12, Narrador] 'Eu'                            \n",
      "[11:12, Personagem] 'Eu'                           | [11:12, Personagem] 'Eu'                          \n",
      "[51:52, Lugar/Espaço] 'quarto'                     | [38:41, Ação] 'terei que repintar'                \n",
      "[62:67, Ação] 'repintar\\narrumar o quarto'         | [59:67, Ação] 'terei alem de repintar\\narrumar o q\n",
      "[69:70, Personagem] 'mãe'                          | [86:89, Ação] 'ela arrumando ele'                 \n",
      "[86:88, Ação] 'ela arrumando'                      | [187:189, Ação] 'irei brincar'                    \n",
      "[187:189, Ação] 'irei brincar'                     |                                                   \n",
      "-------------------------------------------------------------------------------------------------------- \n",
      "     O sumiço das cores na parede e as roupas\n",
      "Eu Quando voltei notei algo estranho o que OOV\n",
      "as roupas estão no chão E a Parede Perdeu as cores\n",
      "que eu tinha pintado agora terei que repintar mesmo\n",
      "que eu esteja com fome quero deixar meu quarto\n",
      "lindo mas alguem tirou as cores terei alem de repintar\n",
      "arrumar o quarto se minha mãe ver o quarto\n",
      "assim acho que ela não vai gostar ehoje de manhaOOV\n",
      "vi ela arrumando ele tenho que ser rapida minha\n",
      "mãe que eu não vai gostar mas Tambem preciso achar quem\n",
      "desarrumou isso tudo sou apenas uma criança mas sou\n",
      "esperta agora quando eu terminar de arrumar o\n",
      "quanto OOV procurou ele OOV    ntura não vai\n",
      "termina tão cedo espero que a mamãe goste do \n",
      "quanto arrumado e com novas cores deve ficar\n",
      "lindo de rosa ou talvez vermelho a fico\n",
      "ansiosa so de pensar ah!!! to doida pra ter-\n",
      "mina mamãe tem que chegar logo estou\n",
      "com fome irei brincar ebquabto espero ela chegar\n",
      "do mercado hoje foi uma aventura e tamto\n",
      "foi muito divertido teve tinta arrumar\n",
      "o quarto e varias coisas legais vou contar\n",
      "tudo para a mamãe de como o dia\n",
      "foilagal\n"
     ]
    },
    {
     "data": {
      "text/plain": [
       "1"
      ]
     },
     "execution_count": 12,
     "metadata": {},
     "output_type": "execute_result"
    }
   ],
   "source": [
    "show.annotations(docs[118])\n",
    "analysis.intersection_agreement([docs[118]], narrative)"
   ]
  },
  {
   "cell_type": "markdown",
   "metadata": {},
   "source": [
    "Deveria ser 100%"
   ]
  },
  {
   "cell_type": "code",
   "execution_count": 13,
   "metadata": {},
   "outputs": [
    {
     "name": "stdout",
     "output_type": "stream",
     "text": [
      "-------------------annotator 1-------------------- | -------------------annotator 2--------------------\n",
      "[01:02, Narrador] 'Eu'                             | [01:04, Narrador] 'Eu e Pedro'                    \n",
      "[01:04, Personagem] 'Eu e Pedro'                   | [01:04, Personagem] 'Eu e Pedro'                  \n",
      "[07:07, Lugar/Espaço] ''                           | [05:07, Lugar/Espaço] 'em casa'                   \n",
      "[09:12, Ação] 'foi para escola'                    | [09:10, Ação] 'foi'                               \n",
      "                                                   | [31:32, Ação] 'chegando'                          \n",
      "                                                   | [48:49, Ação] 'foi'                               \n",
      "                                                   | [52:53, Ação] 'guardo'                            \n",
      "-------------------------------------------------------------------------------------------------------- \n",
      " \tEu e Pedro estava em casa depois nos foi para escola\n",
      " ai depois nós foi para casa mais estava chuvendo\n",
      "ai mesmo chuvendo nós foi ai nós estava chegando\n",
      "em casa ai nós acho um diamante no chão\n",
      "ai eu e Pedro nós foi no banco e guardo.\n"
     ]
    },
    {
     "data": {
      "text/plain": [
       "1"
      ]
     },
     "execution_count": 13,
     "metadata": {},
     "output_type": "execute_result"
    }
   ],
   "source": [
    "show.annotations(docs[2], filter_func=narrative)\n",
    "analysis.intersection_agreement(docs[2:3], filter_func=narrative)"
   ]
  },
  {
   "cell_type": "code",
   "execution_count": null,
   "metadata": {},
   "outputs": [],
   "source": []
  }
 ],
 "metadata": {
  "kernelspec": {
   "display_name": "Python 3.10.5 64-bit ('nlp')",
   "language": "python",
   "name": "python3"
  },
  "language_info": {
   "codemirror_mode": {
    "name": "ipython",
    "version": 3
   },
   "file_extension": ".py",
   "mimetype": "text/x-python",
   "name": "python",
   "nbconvert_exporter": "python",
   "pygments_lexer": "ipython3",
   "version": "3.10.6"
  },
  "orig_nbformat": 4,
  "vscode": {
   "interpreter": {
    "hash": "5f684ca7ce336497ee3e826898578d82ab5701ce04e12a8a77bd89c6297e247b"
   }
  }
 },
 "nbformat": 4,
 "nbformat_minor": 2
}
