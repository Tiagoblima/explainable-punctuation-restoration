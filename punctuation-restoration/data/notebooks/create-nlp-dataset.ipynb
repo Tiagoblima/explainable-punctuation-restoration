{
 "cells": [
  {
   "cell_type": "markdown",
   "metadata": {},
   "source": [
    "# Compilar Anotações para a Criação do Dataset de PLN\n",
    "\n",
    "Formato de entrada:\n",
    "\n",
    "```\n",
    "dataset/\n",
    "  - Semana{n}/{Anotações,Classes}/anotador{1,2}.jsonl\n",
    "```\n",
    "\n",
    "Formato de saída:\n",
    "```\n",
    "dataset/\n",
    "  - docbin.spacy\n",
    "```"
   ]
  },
  {
   "cell_type": "code",
   "execution_count": 1,
   "metadata": {},
   "outputs": [],
   "source": [
    "%%capture\n",
    "%pip install spacy~=3.4.1"
   ]
  },
  {
   "cell_type": "code",
   "execution_count": 2,
   "metadata": {},
   "outputs": [],
   "source": [
    "from util import dataset"
   ]
  },
  {
   "cell_type": "code",
   "execution_count": 3,
   "metadata": {},
   "outputs": [],
   "source": [
    "docs = dataset.create(\n",
    "    path='./data',\n",
    "    token_alignment='expand'\n",
    ")"
   ]
  },
  {
   "cell_type": "code",
   "execution_count": 4,
   "metadata": {},
   "outputs": [
    {
     "name": "stdout",
     "output_type": "stream",
     "text": [
      "all narrative punctuation orthography plagiarism storyline semantic syntax stylistics morphology\n"
     ]
    }
   ],
   "source": [
    "print(*docs[0].spans)"
   ]
  },
  {
   "cell_type": "markdown",
   "metadata": {},
   "source": [
    "## Salvando"
   ]
  },
  {
   "cell_type": "code",
   "execution_count": 5,
   "metadata": {},
   "outputs": [],
   "source": [
    "dataset.save(docs, 'data/docbin.spacy')"
   ]
  },
  {
   "cell_type": "markdown",
   "metadata": {},
   "source": [
    "# Limpando Dataset\n",
    "\n",
    "(opcional) Dicionário do spellchecker em `data/usp-spell-wordfreq.gz` disponível no minio da biblioteca em utils/dictionary/\n",
    "\n",
    "Regras usadas para seleção\n",
    "- (anulado) O texto deve ter `menos de 20% de rasuras` (num_rasuras/num_palavras)\n",
    "- (não alfabético) O texto deve ter `menos de 20%` de palavras `desconhecidas`\n",
    "- (insulficiente) Textos devem ter `mais de 80 palavras` (sem considerar pontuações, este caso foi adicionado por causa de textos pequenos com muitas quebras de linha)\n",
    "- (insulficiente) Textos devem ter `5 ou mais linhas`"
   ]
  },
  {
   "cell_type": "code",
   "execution_count": 6,
   "metadata": {},
   "outputs": [],
   "source": [
    "from util import quality"
   ]
  },
  {
   "cell_type": "code",
   "execution_count": 7,
   "metadata": {},
   "outputs": [],
   "source": [
    "good = quality.docs_viability(docs, \n",
    "    mispells = 0.20,\n",
    "    erasures = 0.20,\n",
    "    min_words = 80,\n",
    "    min_lines = 5\n",
    ")"
   ]
  },
  {
   "cell_type": "code",
   "execution_count": 8,
   "metadata": {},
   "outputs": [
    {
     "name": "stdout",
     "output_type": "stream",
     "text": [
      "docs: 307\n",
      "good: 230\n",
      "ratio: 74.9%\n"
     ]
    }
   ],
   "source": [
    "print('docs:', len(docs))\n",
    "print('good:', len(good))\n",
    "print('ratio: {:.1%}'.format(len(good)/len(docs)))"
   ]
  },
  {
   "cell_type": "markdown",
   "metadata": {},
   "source": [
    "## Saving Cleaned DocBin"
   ]
  },
  {
   "cell_type": "code",
   "execution_count": 9,
   "metadata": {},
   "outputs": [],
   "source": [
    "dataset.save(good, 'data/docbin-cleaned.spacy')"
   ]
  }
 ],
 "metadata": {
  "kernelspec": {
   "display_name": "Python 3.10.5 64-bit ('nlp')",
   "language": "python",
   "name": "python3"
  },
  "language_info": {
   "codemirror_mode": {
    "name": "ipython",
    "version": 3
   },
   "file_extension": ".py",
   "mimetype": "text/x-python",
   "name": "python",
   "nbconvert_exporter": "python",
   "pygments_lexer": "ipython3",
   "version": "3.10.6"
  },
  "orig_nbformat": 4,
  "vscode": {
   "interpreter": {
    "hash": "5f684ca7ce336497ee3e826898578d82ab5701ce04e12a8a77bd89c6297e247b"
   }
  }
 },
 "nbformat": 4,
 "nbformat_minor": 2
}
