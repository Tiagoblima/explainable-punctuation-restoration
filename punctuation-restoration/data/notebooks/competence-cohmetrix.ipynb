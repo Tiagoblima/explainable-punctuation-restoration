{
 "cells": [
  {
   "cell_type": "code",
   "execution_count": null,
   "metadata": {},
   "outputs": [],
   "source": [
    "%%capture\n",
    "%pip install pyarrow pandas tqdm\n",
    "# cohmetrixBR==0.0.6"
   ]
  },
  {
   "cell_type": "code",
   "execution_count": null,
   "metadata": {},
   "outputs": [],
   "source": [
    "from cohmetrixBR.features import FEATURES\n",
    "from tqdm.notebook import tqdm\n",
    "import pandas as pd\n",
    "import warnings\n",
    "\n",
    "from util import competence"
   ]
  },
  {
   "cell_type": "code",
   "execution_count": null,
   "metadata": {},
   "outputs": [],
   "source": [
    "def cohmetrix(texts: pd.Series | str | list[str]) -> pd.DataFrame:\n",
    "    if isinstance(texts, str):\n",
    "        texts = [texts]\n",
    "    if isinstance(texts, list):\n",
    "        texts = pd.Series(texts)\n",
    "    with warnings.catch_warnings():\n",
    "        warnings.filterwarnings('ignore')\n",
    "        return pd.DataFrame([\n",
    "                {func.__name__: func(text) for func in FEATURES}\n",
    "                for text in tqdm(texts, desc='Cohmetrix', unit='text')\n",
    "            ],\n",
    "            index=texts.index\n",
    "        )"
   ]
  },
  {
   "cell_type": "code",
   "execution_count": null,
   "metadata": {},
   "outputs": [],
   "source": [
    "cohmetrix('Testando caracteristicas da biblioteca, porque sim assim dá pra ver.')"
   ]
  },
  {
   "cell_type": "code",
   "execution_count": null,
   "metadata": {},
   "outputs": [],
   "source": [
    "df = competence.load_dataset()\n",
    "df.to_parquet('apa-nlp.parquet')\n",
    "df"
   ]
  },
  {
   "cell_type": "code",
   "execution_count": null,
   "metadata": {},
   "outputs": [],
   "source": [
    "res = cohmetrix(df.text)\n",
    "res.to_csv('apa-nlp-cohmetrix.csv')\n",
    "res"
   ]
  }
 ],
 "metadata": {
  "kernelspec": {
   "display_name": "Python 3.10.6 64-bit ('cohmetrix')",
   "language": "python",
   "name": "python3"
  },
  "language_info": {
   "codemirror_mode": {
    "name": "ipython",
    "version": 3
   },
   "file_extension": ".py",
   "mimetype": "text/x-python",
   "name": "python",
   "nbconvert_exporter": "python",
   "pygments_lexer": "ipython3",
   "version": "3.10.6"
  },
  "orig_nbformat": 4,
  "vscode": {
   "interpreter": {
    "hash": "13a881c16e82f903a51bd4fb59670a7ec5de9c33d7dc8e58c5893f2883d954af"
   }
  }
 },
 "nbformat": 4,
 "nbformat_minor": 2
}
