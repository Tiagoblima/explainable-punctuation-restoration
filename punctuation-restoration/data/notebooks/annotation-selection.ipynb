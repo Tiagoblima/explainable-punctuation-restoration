{
 "cells": [
  {
   "cell_type": "code",
   "execution_count": 1,
   "metadata": {},
   "outputs": [],
   "source": [
    "import hunspell\n",
    "h = hunspell.HunSpell('data/pt_BR.dic', 'data/pt_BR.aff')"
   ]
  },
  {
   "cell_type": "code",
   "execution_count": 1,
   "metadata": {},
   "outputs": [],
   "source": [
    "from util import quality\n",
    "import pandas as pd\n",
    "import numpy as np"
   ]
  },
  {
   "cell_type": "code",
   "execution_count": 15,
   "metadata": {},
   "outputs": [
    {
     "data": {
      "text/plain": [
       "Index(['url', 'annotation'], dtype='object')"
      ]
     },
     "execution_count": 15,
     "metadata": {},
     "output_type": "execute_result"
    }
   ],
   "source": [
    "df = pd.read_csv('data/annotation_align.csv')\n",
    "df.columns"
   ]
  },
  {
   "cell_type": "code",
   "execution_count": 16,
   "metadata": {},
   "outputs": [
    {
     "data": {
      "text/plain": [
       "False    4362\n",
       "True      931\n",
       "Name: annotation, dtype: int64"
      ]
     },
     "execution_count": 16,
     "metadata": {},
     "output_type": "execute_result"
    }
   ],
   "source": [
    "def is_good(text: str) -> bool:\n",
    "    return quality.viability(text, mispells=0.05, erasures=0.02, min_words=60, min_lines=5)\n",
    "df.annotation.apply(is_good).value_counts()"
   ]
  },
  {
   "cell_type": "code",
   "execution_count": 18,
   "metadata": {},
   "outputs": [
    {
     "data": {
      "text/html": [
       "<div>\n",
       "<style scoped>\n",
       "    .dataframe tbody tr th:only-of-type {\n",
       "        vertical-align: middle;\n",
       "    }\n",
       "\n",
       "    .dataframe tbody tr th {\n",
       "        vertical-align: top;\n",
       "    }\n",
       "\n",
       "    .dataframe thead th {\n",
       "        text-align: right;\n",
       "    }\n",
       "</style>\n",
       "<table border=\"1\" class=\"dataframe\">\n",
       "  <thead>\n",
       "    <tr style=\"text-align: right;\">\n",
       "      <th></th>\n",
       "      <th>url</th>\n",
       "      <th>annotation</th>\n",
       "      <th>good</th>\n",
       "    </tr>\n",
       "  </thead>\n",
       "  <tbody>\n",
       "    <tr>\n",
       "      <th>0</th>\n",
       "      <td>https://storage.googleapis.com/scanner-prova.a...</td>\n",
       "      <td>[T] A MENINA QUE ACHO A TINTA\\n[P] [S] ERA UMA...</td>\n",
       "      <td>False</td>\n",
       "    </tr>\n",
       "    <tr>\n",
       "      <th>1</th>\n",
       "      <td>https://storage.googleapis.com/scanner-prova.a...</td>\n",
       "      <td>[T] o ônibus\\n[P] Serto dia eu estava andando ...</td>\n",
       "      <td>False</td>\n",
       "    </tr>\n",
       "    <tr>\n",
       "      <th>2</th>\n",
       "      <td>https://storage.googleapis.com/scanner-prova.a...</td>\n",
       "      <td>[T] As tintas\\n[P] Um certo dia uma menina cha...</td>\n",
       "      <td>True</td>\n",
       "    </tr>\n",
       "    <tr>\n",
       "      <th>3</th>\n",
       "      <td>https://storage.googleapis.com/scanner-prova.a...</td>\n",
       "      <td>[T]A trolagem entra em mim\\nEu encontrei em ci...</td>\n",
       "      <td>False</td>\n",
       "    </tr>\n",
       "    <tr>\n",
       "      <th>4</th>\n",
       "      <td>https://storage.googleapis.com/scanner-prova.a...</td>\n",
       "      <td>[T] [?]\\nEra uma vez uma menina que encontrou\\...</td>\n",
       "      <td>False</td>\n",
       "    </tr>\n",
       "    <tr>\n",
       "      <th>...</th>\n",
       "      <td>...</td>\n",
       "      <td>...</td>\n",
       "      <td>...</td>\n",
       "    </tr>\n",
       "    <tr>\n",
       "      <th>5288</th>\n",
       "      <td>https://storage.googleapis.com/scanner-prova.a...</td>\n",
       "      <td>[T] amenina [X] malucaquinha\\naxei estepote de...</td>\n",
       "      <td>False</td>\n",
       "    </tr>\n",
       "    <tr>\n",
       "      <th>5289</th>\n",
       "      <td>https://storage.googleapis.com/scanner-prova.a...</td>\n",
       "      <td>[T] O misterio dos desenhos\\n[P] Certo dia fom...</td>\n",
       "      <td>True</td>\n",
       "    </tr>\n",
       "    <tr>\n",
       "      <th>5290</th>\n",
       "      <td>https://storage.googleapis.com/scanner-prova.a...</td>\n",
       "      <td>[t] A PINTURA NA PAREDE\\n[p] EM UM DIA LINDO N...</td>\n",
       "      <td>True</td>\n",
       "    </tr>\n",
       "    <tr>\n",
       "      <th>5291</th>\n",
       "      <td>https://storage.googleapis.com/scanner-prova.a...</td>\n",
       "      <td>[t] A PINTURA NA PAREDE\\n[p] EM UM DIA LINDO N...</td>\n",
       "      <td>True</td>\n",
       "    </tr>\n",
       "    <tr>\n",
       "      <th>5292</th>\n",
       "      <td>https://storage.googleapis.com/scanner-prova.a...</td>\n",
       "      <td>[T]O misterio da bagunça  \\num vez dia uma men...</td>\n",
       "      <td>True</td>\n",
       "    </tr>\n",
       "  </tbody>\n",
       "</table>\n",
       "<p>5293 rows × 3 columns</p>\n",
       "</div>"
      ],
      "text/plain": [
       "                                                    url  \\\n",
       "0     https://storage.googleapis.com/scanner-prova.a...   \n",
       "1     https://storage.googleapis.com/scanner-prova.a...   \n",
       "2     https://storage.googleapis.com/scanner-prova.a...   \n",
       "3     https://storage.googleapis.com/scanner-prova.a...   \n",
       "4     https://storage.googleapis.com/scanner-prova.a...   \n",
       "...                                                 ...   \n",
       "5288  https://storage.googleapis.com/scanner-prova.a...   \n",
       "5289  https://storage.googleapis.com/scanner-prova.a...   \n",
       "5290  https://storage.googleapis.com/scanner-prova.a...   \n",
       "5291  https://storage.googleapis.com/scanner-prova.a...   \n",
       "5292  https://storage.googleapis.com/scanner-prova.a...   \n",
       "\n",
       "                                             annotation   good  \n",
       "0     [T] A MENINA QUE ACHO A TINTA\\n[P] [S] ERA UMA...  False  \n",
       "1     [T] o ônibus\\n[P] Serto dia eu estava andando ...  False  \n",
       "2     [T] As tintas\\n[P] Um certo dia uma menina cha...   True  \n",
       "3     [T]A trolagem entra em mim\\nEu encontrei em ci...  False  \n",
       "4     [T] [?]\\nEra uma vez uma menina que encontrou\\...  False  \n",
       "...                                                 ...    ...  \n",
       "5288  [T] amenina [X] malucaquinha\\naxei estepote de...  False  \n",
       "5289  [T] O misterio dos desenhos\\n[P] Certo dia fom...   True  \n",
       "5290  [t] A PINTURA NA PAREDE\\n[p] EM UM DIA LINDO N...   True  \n",
       "5291  [t] A PINTURA NA PAREDE\\n[p] EM UM DIA LINDO N...   True  \n",
       "5292  [T]O misterio da bagunça  \\num vez dia uma men...   True  \n",
       "\n",
       "[5293 rows x 3 columns]"
      ]
     },
     "execution_count": 18,
     "metadata": {},
     "output_type": "execute_result"
    }
   ],
   "source": [
    "df['good'] = df.annotation.apply(is_good)\n",
    "df"
   ]
  },
  {
   "cell_type": "code",
   "execution_count": 19,
   "metadata": {},
   "outputs": [
    {
     "data": {
      "text/html": [
       "<div>\n",
       "<style scoped>\n",
       "    .dataframe tbody tr th:only-of-type {\n",
       "        vertical-align: middle;\n",
       "    }\n",
       "\n",
       "    .dataframe tbody tr th {\n",
       "        vertical-align: top;\n",
       "    }\n",
       "\n",
       "    .dataframe thead th {\n",
       "        text-align: right;\n",
       "    }\n",
       "</style>\n",
       "<table border=\"1\" class=\"dataframe\">\n",
       "  <thead>\n",
       "    <tr style=\"text-align: right;\">\n",
       "      <th></th>\n",
       "      <th>url</th>\n",
       "      <th>annotation</th>\n",
       "      <th>good</th>\n",
       "    </tr>\n",
       "  </thead>\n",
       "  <tbody>\n",
       "    <tr>\n",
       "      <th>2</th>\n",
       "      <td>https://storage.googleapis.com/scanner-prova.a...</td>\n",
       "      <td>[T] As tintas\\n[P] Um certo dia uma menina cha...</td>\n",
       "      <td>True</td>\n",
       "    </tr>\n",
       "    <tr>\n",
       "      <th>10</th>\n",
       "      <td>https://storage.googleapis.com/scanner-prova.a...</td>\n",
       "      <td>[T] A jovem ARTISTA\\n[P] CerTo dia uma menina ...</td>\n",
       "      <td>True</td>\n",
       "    </tr>\n",
       "    <tr>\n",
       "      <th>12</th>\n",
       "      <td>https://storage.googleapis.com/scanner-prova.a...</td>\n",
       "      <td>[T] Os animais que criaram vida\\n[P] Logo desc...</td>\n",
       "      <td>True</td>\n",
       "    </tr>\n",
       "    <tr>\n",
       "      <th>14</th>\n",
       "      <td>https://storage.googleapis.com/scanner-prova.a...</td>\n",
       "      <td>[T] a historia de maria .\\nEra uma vez , uma m...</td>\n",
       "      <td>True</td>\n",
       "    </tr>\n",
       "    <tr>\n",
       "      <th>15</th>\n",
       "      <td>https://storage.googleapis.com/scanner-prova.a...</td>\n",
       "      <td>[T] A Menina izagerada\\n[P] Eu cheguei no quar...</td>\n",
       "      <td>True</td>\n",
       "    </tr>\n",
       "    <tr>\n",
       "      <th>...</th>\n",
       "      <td>...</td>\n",
       "      <td>...</td>\n",
       "      <td>...</td>\n",
       "    </tr>\n",
       "    <tr>\n",
       "      <th>5282</th>\n",
       "      <td>https://storage.googleapis.com/scanner-prova.a...</td>\n",
       "      <td>[T] O mundo magico\\n[P] Era uma vez uma menina...</td>\n",
       "      <td>True</td>\n",
       "    </tr>\n",
       "    <tr>\n",
       "      <th>5284</th>\n",
       "      <td>https://storage.googleapis.com/scanner-prova.a...</td>\n",
       "      <td>[T] O cachorro bagunceiro\\n[X] eom belo dia de...</td>\n",
       "      <td>True</td>\n",
       "    </tr>\n",
       "    <tr>\n",
       "      <th>5289</th>\n",
       "      <td>https://storage.googleapis.com/scanner-prova.a...</td>\n",
       "      <td>[T] O misterio dos desenhos\\n[P] Certo dia fom...</td>\n",
       "      <td>True</td>\n",
       "    </tr>\n",
       "    <tr>\n",
       "      <th>5290</th>\n",
       "      <td>https://storage.googleapis.com/scanner-prova.a...</td>\n",
       "      <td>[t] A PINTURA NA PAREDE\\n[p] EM UM DIA LINDO N...</td>\n",
       "      <td>True</td>\n",
       "    </tr>\n",
       "    <tr>\n",
       "      <th>5292</th>\n",
       "      <td>https://storage.googleapis.com/scanner-prova.a...</td>\n",
       "      <td>[T]O misterio da bagunça  \\num vez dia uma men...</td>\n",
       "      <td>True</td>\n",
       "    </tr>\n",
       "  </tbody>\n",
       "</table>\n",
       "<p>743 rows × 3 columns</p>\n",
       "</div>"
      ],
      "text/plain": [
       "                                                    url  \\\n",
       "2     https://storage.googleapis.com/scanner-prova.a...   \n",
       "10    https://storage.googleapis.com/scanner-prova.a...   \n",
       "12    https://storage.googleapis.com/scanner-prova.a...   \n",
       "14    https://storage.googleapis.com/scanner-prova.a...   \n",
       "15    https://storage.googleapis.com/scanner-prova.a...   \n",
       "...                                                 ...   \n",
       "5282  https://storage.googleapis.com/scanner-prova.a...   \n",
       "5284  https://storage.googleapis.com/scanner-prova.a...   \n",
       "5289  https://storage.googleapis.com/scanner-prova.a...   \n",
       "5290  https://storage.googleapis.com/scanner-prova.a...   \n",
       "5292  https://storage.googleapis.com/scanner-prova.a...   \n",
       "\n",
       "                                             annotation  good  \n",
       "2     [T] As tintas\\n[P] Um certo dia uma menina cha...  True  \n",
       "10    [T] A jovem ARTISTA\\n[P] CerTo dia uma menina ...  True  \n",
       "12    [T] Os animais que criaram vida\\n[P] Logo desc...  True  \n",
       "14    [T] a historia de maria .\\nEra uma vez , uma m...  True  \n",
       "15    [T] A Menina izagerada\\n[P] Eu cheguei no quar...  True  \n",
       "...                                                 ...   ...  \n",
       "5282  [T] O mundo magico\\n[P] Era uma vez uma menina...  True  \n",
       "5284  [T] O cachorro bagunceiro\\n[X] eom belo dia de...  True  \n",
       "5289  [T] O misterio dos desenhos\\n[P] Certo dia fom...  True  \n",
       "5290  [t] A PINTURA NA PAREDE\\n[p] EM UM DIA LINDO N...  True  \n",
       "5292  [T]O misterio da bagunça  \\num vez dia uma men...  True  \n",
       "\n",
       "[743 rows x 3 columns]"
      ]
     },
     "execution_count": 19,
     "metadata": {},
     "output_type": "execute_result"
    }
   ],
   "source": [
    "df = df[df.good]\n",
    "df = df.drop_duplicates('annotation')\n",
    "df"
   ]
  },
  {
   "cell_type": "markdown",
   "metadata": {},
   "source": [
    "removendo semanas anteriores"
   ]
  },
  {
   "cell_type": "code",
   "execution_count": 20,
   "metadata": {},
   "outputs": [
    {
     "data": {
      "text/html": [
       "<div>\n",
       "<style scoped>\n",
       "    .dataframe tbody tr th:only-of-type {\n",
       "        vertical-align: middle;\n",
       "    }\n",
       "\n",
       "    .dataframe tbody tr th {\n",
       "        vertical-align: top;\n",
       "    }\n",
       "\n",
       "    .dataframe thead th {\n",
       "        text-align: right;\n",
       "    }\n",
       "</style>\n",
       "<table border=\"1\" class=\"dataframe\">\n",
       "  <thead>\n",
       "    <tr style=\"text-align: right;\">\n",
       "      <th></th>\n",
       "      <th>url</th>\n",
       "      <th>annotation</th>\n",
       "      <th>good</th>\n",
       "    </tr>\n",
       "  </thead>\n",
       "  <tbody>\n",
       "    <tr>\n",
       "      <th>2</th>\n",
       "      <td>https://storage.googleapis.com/scanner-prova.a...</td>\n",
       "      <td>[T] As tintas\\n[P] Um certo dia uma menina cha...</td>\n",
       "      <td>True</td>\n",
       "    </tr>\n",
       "    <tr>\n",
       "      <th>10</th>\n",
       "      <td>https://storage.googleapis.com/scanner-prova.a...</td>\n",
       "      <td>[T] A jovem ARTISTA\\n[P] CerTo dia uma menina ...</td>\n",
       "      <td>True</td>\n",
       "    </tr>\n",
       "    <tr>\n",
       "      <th>12</th>\n",
       "      <td>https://storage.googleapis.com/scanner-prova.a...</td>\n",
       "      <td>[T] Os animais que criaram vida\\n[P] Logo desc...</td>\n",
       "      <td>True</td>\n",
       "    </tr>\n",
       "    <tr>\n",
       "      <th>14</th>\n",
       "      <td>https://storage.googleapis.com/scanner-prova.a...</td>\n",
       "      <td>[T] a historia de maria .\\nEra uma vez , uma m...</td>\n",
       "      <td>True</td>\n",
       "    </tr>\n",
       "    <tr>\n",
       "      <th>15</th>\n",
       "      <td>https://storage.googleapis.com/scanner-prova.a...</td>\n",
       "      <td>[T] A Menina izagerada\\n[P] Eu cheguei no quar...</td>\n",
       "      <td>True</td>\n",
       "    </tr>\n",
       "    <tr>\n",
       "      <th>...</th>\n",
       "      <td>...</td>\n",
       "      <td>...</td>\n",
       "      <td>...</td>\n",
       "    </tr>\n",
       "    <tr>\n",
       "      <th>5282</th>\n",
       "      <td>https://storage.googleapis.com/scanner-prova.a...</td>\n",
       "      <td>[T] O mundo magico\\n[P] Era uma vez uma menina...</td>\n",
       "      <td>True</td>\n",
       "    </tr>\n",
       "    <tr>\n",
       "      <th>5284</th>\n",
       "      <td>https://storage.googleapis.com/scanner-prova.a...</td>\n",
       "      <td>[T] O cachorro bagunceiro\\n[X] eom belo dia de...</td>\n",
       "      <td>True</td>\n",
       "    </tr>\n",
       "    <tr>\n",
       "      <th>5289</th>\n",
       "      <td>https://storage.googleapis.com/scanner-prova.a...</td>\n",
       "      <td>[T] O misterio dos desenhos\\n[P] Certo dia fom...</td>\n",
       "      <td>True</td>\n",
       "    </tr>\n",
       "    <tr>\n",
       "      <th>5290</th>\n",
       "      <td>https://storage.googleapis.com/scanner-prova.a...</td>\n",
       "      <td>[t] A PINTURA NA PAREDE\\n[p] EM UM DIA LINDO N...</td>\n",
       "      <td>True</td>\n",
       "    </tr>\n",
       "    <tr>\n",
       "      <th>5292</th>\n",
       "      <td>https://storage.googleapis.com/scanner-prova.a...</td>\n",
       "      <td>[T]O misterio da bagunça  \\num vez dia uma men...</td>\n",
       "      <td>True</td>\n",
       "    </tr>\n",
       "  </tbody>\n",
       "</table>\n",
       "<p>675 rows × 3 columns</p>\n",
       "</div>"
      ],
      "text/plain": [
       "                                                    url  \\\n",
       "2     https://storage.googleapis.com/scanner-prova.a...   \n",
       "10    https://storage.googleapis.com/scanner-prova.a...   \n",
       "12    https://storage.googleapis.com/scanner-prova.a...   \n",
       "14    https://storage.googleapis.com/scanner-prova.a...   \n",
       "15    https://storage.googleapis.com/scanner-prova.a...   \n",
       "...                                                 ...   \n",
       "5282  https://storage.googleapis.com/scanner-prova.a...   \n",
       "5284  https://storage.googleapis.com/scanner-prova.a...   \n",
       "5289  https://storage.googleapis.com/scanner-prova.a...   \n",
       "5290  https://storage.googleapis.com/scanner-prova.a...   \n",
       "5292  https://storage.googleapis.com/scanner-prova.a...   \n",
       "\n",
       "                                             annotation  good  \n",
       "2     [T] As tintas\\n[P] Um certo dia uma menina cha...  True  \n",
       "10    [T] A jovem ARTISTA\\n[P] CerTo dia uma menina ...  True  \n",
       "12    [T] Os animais que criaram vida\\n[P] Logo desc...  True  \n",
       "14    [T] a historia de maria .\\nEra uma vez , uma m...  True  \n",
       "15    [T] A Menina izagerada\\n[P] Eu cheguei no quar...  True  \n",
       "...                                                 ...   ...  \n",
       "5282  [T] O mundo magico\\n[P] Era uma vez uma menina...  True  \n",
       "5284  [T] O cachorro bagunceiro\\n[X] eom belo dia de...  True  \n",
       "5289  [T] O misterio dos desenhos\\n[P] Certo dia fom...  True  \n",
       "5290  [t] A PINTURA NA PAREDE\\n[p] EM UM DIA LINDO N...  True  \n",
       "5292  [T]O misterio da bagunça  \\num vez dia uma men...  True  \n",
       "\n",
       "[675 rows x 3 columns]"
      ]
     },
     "execution_count": 20,
     "metadata": {},
     "output_type": "execute_result"
    }
   ],
   "source": [
    "from util import dataset\n",
    "docs = dataset.create(preprocess=lambda x: x)\n",
    "docs_df = pd.DataFrame([d.text for d in docs], columns=['text'])\n",
    "df = df[~df.annotation.isin(docs_df.text)]\n",
    "df"
   ]
  },
  {
   "cell_type": "code",
   "execution_count": 23,
   "metadata": {},
   "outputs": [
    {
     "data": {
      "text/html": [
       "<div>\n",
       "<style scoped>\n",
       "    .dataframe tbody tr th:only-of-type {\n",
       "        vertical-align: middle;\n",
       "    }\n",
       "\n",
       "    .dataframe tbody tr th {\n",
       "        vertical-align: top;\n",
       "    }\n",
       "\n",
       "    .dataframe thead th {\n",
       "        text-align: right;\n",
       "    }\n",
       "</style>\n",
       "<table border=\"1\" class=\"dataframe\">\n",
       "  <thead>\n",
       "    <tr style=\"text-align: right;\">\n",
       "      <th></th>\n",
       "      <th>id</th>\n",
       "      <th>url</th>\n",
       "      <th>annotation</th>\n",
       "    </tr>\n",
       "  </thead>\n",
       "  <tbody>\n",
       "    <tr>\n",
       "      <th>0</th>\n",
       "      <td>2</td>\n",
       "      <td>https://storage.googleapis.com/scanner-prova.a...</td>\n",
       "      <td>[T] As tintas\\n[P] Um certo dia uma menina cha...</td>\n",
       "    </tr>\n",
       "    <tr>\n",
       "      <th>1</th>\n",
       "      <td>10</td>\n",
       "      <td>https://storage.googleapis.com/scanner-prova.a...</td>\n",
       "      <td>[T] A jovem ARTISTA\\n[P] CerTo dia uma menina ...</td>\n",
       "    </tr>\n",
       "    <tr>\n",
       "      <th>2</th>\n",
       "      <td>12</td>\n",
       "      <td>https://storage.googleapis.com/scanner-prova.a...</td>\n",
       "      <td>[T] Os animais que criaram vida\\n[P] Logo desc...</td>\n",
       "    </tr>\n",
       "    <tr>\n",
       "      <th>3</th>\n",
       "      <td>14</td>\n",
       "      <td>https://storage.googleapis.com/scanner-prova.a...</td>\n",
       "      <td>[T] a historia de maria .\\nEra uma vez , uma m...</td>\n",
       "    </tr>\n",
       "    <tr>\n",
       "      <th>4</th>\n",
       "      <td>15</td>\n",
       "      <td>https://storage.googleapis.com/scanner-prova.a...</td>\n",
       "      <td>[T] A Menina izagerada\\n[P] Eu cheguei no quar...</td>\n",
       "    </tr>\n",
       "  </tbody>\n",
       "</table>\n",
       "</div>"
      ],
      "text/plain": [
       "   id                                                url  \\\n",
       "0   2  https://storage.googleapis.com/scanner-prova.a...   \n",
       "1  10  https://storage.googleapis.com/scanner-prova.a...   \n",
       "2  12  https://storage.googleapis.com/scanner-prova.a...   \n",
       "3  14  https://storage.googleapis.com/scanner-prova.a...   \n",
       "4  15  https://storage.googleapis.com/scanner-prova.a...   \n",
       "\n",
       "                                          annotation  \n",
       "0  [T] As tintas\\n[P] Um certo dia uma menina cha...  \n",
       "1  [T] A jovem ARTISTA\\n[P] CerTo dia uma menina ...  \n",
       "2  [T] Os animais que criaram vida\\n[P] Logo desc...  \n",
       "3  [T] a historia de maria .\\nEra uma vez , uma m...  \n",
       "4  [T] A Menina izagerada\\n[P] Eu cheguei no quar...  "
      ]
     },
     "execution_count": 23,
     "metadata": {},
     "output_type": "execute_result"
    }
   ],
   "source": [
    "s8 = pd.read_csv('data/Semana8.csv')\n",
    "s8.head()"
   ]
  },
  {
   "cell_type": "code",
   "execution_count": 36,
   "metadata": {},
   "outputs": [
    {
     "data": {
      "text/plain": [
       "False    625\n",
       "Name: annotation, dtype: int64"
      ]
     },
     "execution_count": 36,
     "metadata": {},
     "output_type": "execute_result"
    }
   ],
   "source": [
    "df.annotation.isin(s8.annotation).value_counts()"
   ]
  },
  {
   "cell_type": "code",
   "execution_count": 28,
   "metadata": {},
   "outputs": [
    {
     "data": {
      "text/html": [
       "<div>\n",
       "<style scoped>\n",
       "    .dataframe tbody tr th:only-of-type {\n",
       "        vertical-align: middle;\n",
       "    }\n",
       "\n",
       "    .dataframe tbody tr th {\n",
       "        vertical-align: top;\n",
       "    }\n",
       "\n",
       "    .dataframe thead th {\n",
       "        text-align: right;\n",
       "    }\n",
       "</style>\n",
       "<table border=\"1\" class=\"dataframe\">\n",
       "  <thead>\n",
       "    <tr style=\"text-align: right;\">\n",
       "      <th></th>\n",
       "      <th>url</th>\n",
       "      <th>annotation</th>\n",
       "      <th>good</th>\n",
       "    </tr>\n",
       "  </thead>\n",
       "  <tbody>\n",
       "    <tr>\n",
       "      <th>312</th>\n",
       "      <td>https://storage.googleapis.com/scanner-prova.a...</td>\n",
       "      <td>[T] O mistério da pintura da parede .\\nEra uma...</td>\n",
       "      <td>True</td>\n",
       "    </tr>\n",
       "    <tr>\n",
       "      <th>329</th>\n",
       "      <td>https://storage.googleapis.com/scanner-prova.a...</td>\n",
       "      <td>[T] A Praça\\n[P] Um dia eu e meu cachorro cham...</td>\n",
       "      <td>True</td>\n",
       "    </tr>\n",
       "    <tr>\n",
       "      <th>332</th>\n",
       "      <td>https://storage.googleapis.com/scanner-prova.a...</td>\n",
       "      <td>[T]As Minhas tintas\\nera Uma vez Uma Menina Qu...</td>\n",
       "      <td>True</td>\n",
       "    </tr>\n",
       "    <tr>\n",
       "      <th>342</th>\n",
       "      <td>https://storage.googleapis.com/scanner-prova.a...</td>\n",
       "      <td>[?] As bolinhas da brincadeira\\n[P] Era uma ve...</td>\n",
       "      <td>True</td>\n",
       "    </tr>\n",
       "    <tr>\n",
       "      <th>350</th>\n",
       "      <td>https://storage.googleapis.com/scanner-prova.a...</td>\n",
       "      <td>[T] Fazendo a baguncinha\\nÉ mais uma dia norma...</td>\n",
       "      <td>True</td>\n",
       "    </tr>\n",
       "    <tr>\n",
       "      <th>...</th>\n",
       "      <td>...</td>\n",
       "      <td>...</td>\n",
       "      <td>...</td>\n",
       "    </tr>\n",
       "    <tr>\n",
       "      <th>5282</th>\n",
       "      <td>https://storage.googleapis.com/scanner-prova.a...</td>\n",
       "      <td>[T] O mundo magico\\n[P] Era uma vez uma menina...</td>\n",
       "      <td>True</td>\n",
       "    </tr>\n",
       "    <tr>\n",
       "      <th>5284</th>\n",
       "      <td>https://storage.googleapis.com/scanner-prova.a...</td>\n",
       "      <td>[T] O cachorro bagunceiro\\n[X] eom belo dia de...</td>\n",
       "      <td>True</td>\n",
       "    </tr>\n",
       "    <tr>\n",
       "      <th>5289</th>\n",
       "      <td>https://storage.googleapis.com/scanner-prova.a...</td>\n",
       "      <td>[T] O misterio dos desenhos\\n[P] Certo dia fom...</td>\n",
       "      <td>True</td>\n",
       "    </tr>\n",
       "    <tr>\n",
       "      <th>5290</th>\n",
       "      <td>https://storage.googleapis.com/scanner-prova.a...</td>\n",
       "      <td>[t] A PINTURA NA PAREDE\\n[p] EM UM DIA LINDO N...</td>\n",
       "      <td>True</td>\n",
       "    </tr>\n",
       "    <tr>\n",
       "      <th>5292</th>\n",
       "      <td>https://storage.googleapis.com/scanner-prova.a...</td>\n",
       "      <td>[T]O misterio da bagunça  \\num vez dia uma men...</td>\n",
       "      <td>True</td>\n",
       "    </tr>\n",
       "  </tbody>\n",
       "</table>\n",
       "<p>625 rows × 3 columns</p>\n",
       "</div>"
      ],
      "text/plain": [
       "                                                    url  \\\n",
       "312   https://storage.googleapis.com/scanner-prova.a...   \n",
       "329   https://storage.googleapis.com/scanner-prova.a...   \n",
       "332   https://storage.googleapis.com/scanner-prova.a...   \n",
       "342   https://storage.googleapis.com/scanner-prova.a...   \n",
       "350   https://storage.googleapis.com/scanner-prova.a...   \n",
       "...                                                 ...   \n",
       "5282  https://storage.googleapis.com/scanner-prova.a...   \n",
       "5284  https://storage.googleapis.com/scanner-prova.a...   \n",
       "5289  https://storage.googleapis.com/scanner-prova.a...   \n",
       "5290  https://storage.googleapis.com/scanner-prova.a...   \n",
       "5292  https://storage.googleapis.com/scanner-prova.a...   \n",
       "\n",
       "                                             annotation  good  \n",
       "312   [T] O mistério da pintura da parede .\\nEra uma...  True  \n",
       "329   [T] A Praça\\n[P] Um dia eu e meu cachorro cham...  True  \n",
       "332   [T]As Minhas tintas\\nera Uma vez Uma Menina Qu...  True  \n",
       "342   [?] As bolinhas da brincadeira\\n[P] Era uma ve...  True  \n",
       "350   [T] Fazendo a baguncinha\\nÉ mais uma dia norma...  True  \n",
       "...                                                 ...   ...  \n",
       "5282  [T] O mundo magico\\n[P] Era uma vez uma menina...  True  \n",
       "5284  [T] O cachorro bagunceiro\\n[X] eom belo dia de...  True  \n",
       "5289  [T] O misterio dos desenhos\\n[P] Certo dia fom...  True  \n",
       "5290  [t] A PINTURA NA PAREDE\\n[p] EM UM DIA LINDO N...  True  \n",
       "5292  [T]O misterio da bagunça  \\num vez dia uma men...  True  \n",
       "\n",
       "[625 rows x 3 columns]"
      ]
     },
     "execution_count": 28,
     "metadata": {},
     "output_type": "execute_result"
    }
   ],
   "source": [
    "df = df[~df.annotation.isin(s8.annotation)]\n",
    "df"
   ]
  },
  {
   "cell_type": "code",
   "execution_count": 7,
   "metadata": {},
   "outputs": [],
   "source": [
    "# print(*df[~df.good].sample(1).annotation)"
   ]
  },
  {
   "cell_type": "code",
   "execution_count": 8,
   "metadata": {},
   "outputs": [],
   "source": [
    "# print(*df[df.good].sample(1).annotation)"
   ]
  },
  {
   "cell_type": "markdown",
   "metadata": {},
   "source": [
    "Jupyter Widget for Manual Selection"
   ]
  },
  {
   "cell_type": "code",
   "execution_count": 7,
   "metadata": {},
   "outputs": [],
   "source": [
    "from IPython.display import display\n",
    "import ipywidgets as widgets\n",
    "\n",
    "class ManualSelectorApp:\n",
    "    def __init__(self, df: pd.DataFrame):\n",
    "        self.df = df\n",
    "        self.indexes = set()\n",
    "        self.curr = 0\n",
    "        self.output = widgets.Output()\n",
    "        \n",
    "        add = widgets.Button(description='Adicionar', button_style='success')\n",
    "        add.on_click(self.action_add)\n",
    "\n",
    "        back = widgets.Button(description='Voltar', button_style='info')\n",
    "        back.on_click(self.action_back)\n",
    "        \n",
    "        skip = widgets.Button(description='Pular', button_style='warning')\n",
    "        skip.on_click(self.action_skip)\n",
    "\n",
    "        self.buttons = [back, add, skip]\n",
    "        self.render_text()\n",
    "    @property\n",
    "    def selected(self):\n",
    "        return self.df.iloc[sorted(list(app.indexes))]\n",
    "\n",
    "    def action_add(self, button):\n",
    "        self.indexes.add(self.curr)\n",
    "        self.action_skip(button)\n",
    "\n",
    "    def action_back(self, button):\n",
    "        self.curr -= 1\n",
    "        self.render_text()\n",
    "\n",
    "    def action_skip(self, button):\n",
    "        self.curr += 1\n",
    "        self.render_text()\n",
    "\n",
    "    def render_text(self):\n",
    "        added = len(self.indexes)\n",
    "        remain = len(self.df) - added\n",
    "        value = self.df.iloc[self.curr]\n",
    "        self.output.clear_output()\n",
    "        good = 'Aprovado' if value.good else 'Reprovado'\n",
    "        with self.output:\n",
    "            print(f'Texto atual: {value.name} | Filtro: {good} | Adicionados: {added} | Restantes: {remain}')\n",
    "            print('-'*80)\n",
    "            print(value.annotation)\n",
    "\n",
    "    def display(self):\n",
    "        display(widgets.HBox(self.buttons), self.output)"
   ]
  },
  {
   "cell_type": "code",
   "execution_count": 18,
   "metadata": {},
   "outputs": [
    {
     "data": {
      "application/vnd.jupyter.widget-view+json": {
       "model_id": "93b436803153491eb39ec69cf1fbc7fe",
       "version_major": 2,
       "version_minor": 0
      },
      "text/plain": [
       "HBox(children=(Button(button_style='info', description='Voltar', style=ButtonStyle()), Button(button_style='su…"
      ]
     },
     "metadata": {},
     "output_type": "display_data"
    },
    {
     "data": {
      "application/vnd.jupyter.widget-view+json": {
       "model_id": "bb43e1077b5c4609979ff5c43747ccff",
       "version_major": 2,
       "version_minor": 0
      },
      "text/plain": [
       "Output()"
      ]
     },
     "metadata": {},
     "output_type": "display_data"
    }
   ],
   "source": [
    "app = ManualSelectorApp(df.sample(10))\n",
    "app.display()"
   ]
  },
  {
   "cell_type": "markdown",
   "metadata": {},
   "source": [
    "Recuperando textos selecionados"
   ]
  },
  {
   "cell_type": "code",
   "execution_count": 17,
   "metadata": {},
   "outputs": [
    {
     "data": {
      "text/plain": [
       "'EM QUARTO GABI ESTA PROCURANDO UMA\\nROUPA PARA PASSAR UM TEMPO COM\\nSUA MÃE E NO MEIO DO CAMINHO\\nE VE UM PAPELARIA E FALA PRA MAE\\nPARAR O CARRO POR QUE A GABI A\\nTEMPO QUERENDO PINTAR SEU QUARTO\\nCOM UMA IMAGEM DA PRAIA EM SEU\\nQUARTO POR ELA SÓ VAI DE VEZ EM\\nQUANDO E ELA VAI PRECISSA DAS\\nCORES AZUL, VERDE, MARROM, AMARELO,\\nVERMELHO, PRETO E LARANJA PRA EU\\nPINTA ENTÃO A MAE PARA O CARRO\\nE DA A FILHA 50 REAIS PARA ELA\\nCOMPRAR AS CORES E ENTÃO GABI\\nCOMPRA AS CORES E DEPOIS ESCOLHENDO\\nELA COMPRA E VOLTA PRO CARRO\\nE VAM PRO SEU PASSEIO E QUANDO\\nVOLTARAM A CASA ELA VAI PINTAR\\n[LC] A PAREDE DE SEU QUARTO E PINTA\\n[LC] SOA PAEDE VAI FAZENDO O FORMATO\\n[LC] MAS ESTA MUITO TARDE E ENTÃO\\nELA FOI DORMIR E NA MANHÃ\\nSEGUINDO ELA CONTINUA PINTANDO\\nE SUA MAE CONVIDA A GABI A\\nPASSEAR NA PRAIA E GABI A\\nMAS COM UM CONDIÇÃO ELA\\nTRAZERIA OS POTES DE TINTAS\\nE A MAE ACEITA E QUANDO CHEGAM\\nELA PINTA O LUGAR ONDE SALVA-\\nVIDA. FICO O FAROL E SE DIVERTEM'"
      ]
     },
     "execution_count": 17,
     "metadata": {},
     "output_type": "execute_result"
    }
   ],
   "source": [
    "# quality.erasure(df.annotation.loc[2605])\n",
    "df.annotation.loc[2605]"
   ]
  },
  {
   "cell_type": "code",
   "execution_count": 11,
   "metadata": {},
   "outputs": [
    {
     "data": {
      "text/html": [
       "<div>\n",
       "<style scoped>\n",
       "    .dataframe tbody tr th:only-of-type {\n",
       "        vertical-align: middle;\n",
       "    }\n",
       "\n",
       "    .dataframe tbody tr th {\n",
       "        vertical-align: top;\n",
       "    }\n",
       "\n",
       "    .dataframe thead th {\n",
       "        text-align: right;\n",
       "    }\n",
       "</style>\n",
       "<table border=\"1\" class=\"dataframe\">\n",
       "  <thead>\n",
       "    <tr style=\"text-align: right;\">\n",
       "      <th></th>\n",
       "      <th>url</th>\n",
       "      <th>annotation</th>\n",
       "      <th>good</th>\n",
       "    </tr>\n",
       "  </thead>\n",
       "  <tbody>\n",
       "  </tbody>\n",
       "</table>\n",
       "</div>"
      ],
      "text/plain": [
       "Empty DataFrame\n",
       "Columns: [url, annotation, good]\n",
       "Index: []"
      ]
     },
     "execution_count": 11,
     "metadata": {},
     "output_type": "execute_result"
    }
   ],
   "source": [
    "app.selected"
   ]
  },
  {
   "cell_type": "code",
   "execution_count": 19,
   "metadata": {},
   "outputs": [],
   "source": [
    "df.drop(columns=['good']).to_csv('data/transcrições-restantes.csv', index_label='id')"
   ]
  },
  {
   "cell_type": "code",
   "execution_count": 12,
   "metadata": {},
   "outputs": [],
   "source": [
    "app.selected.drop(columns=['good']).to_csv('selection.csv', index_label='id')"
   ]
  },
  {
   "cell_type": "code",
   "execution_count": 14,
   "metadata": {},
   "outputs": [
    {
     "data": {
      "text/html": [
       "<div>\n",
       "<style scoped>\n",
       "    .dataframe tbody tr th:only-of-type {\n",
       "        vertical-align: middle;\n",
       "    }\n",
       "\n",
       "    .dataframe tbody tr th {\n",
       "        vertical-align: top;\n",
       "    }\n",
       "\n",
       "    .dataframe thead th {\n",
       "        text-align: right;\n",
       "    }\n",
       "</style>\n",
       "<table border=\"1\" class=\"dataframe\">\n",
       "  <thead>\n",
       "    <tr style=\"text-align: right;\">\n",
       "      <th></th>\n",
       "      <th>url</th>\n",
       "      <th>annotation</th>\n",
       "      <th>good</th>\n",
       "    </tr>\n",
       "  </thead>\n",
       "  <tbody>\n",
       "    <tr>\n",
       "      <th>2</th>\n",
       "      <td>https://storage.googleapis.com/scanner-prova.a...</td>\n",
       "      <td>[T] As tintas\\n[P] Um certo dia uma menina cha...</td>\n",
       "      <td>True</td>\n",
       "    </tr>\n",
       "    <tr>\n",
       "      <th>12</th>\n",
       "      <td>https://storage.googleapis.com/scanner-prova.a...</td>\n",
       "      <td>[T] Os animais que criaram vida\\n[P] Logo desc...</td>\n",
       "      <td>True</td>\n",
       "    </tr>\n",
       "    <tr>\n",
       "      <th>14</th>\n",
       "      <td>https://storage.googleapis.com/scanner-prova.a...</td>\n",
       "      <td>[T] a historia de maria .\\nEra uma vez , uma m...</td>\n",
       "      <td>True</td>\n",
       "    </tr>\n",
       "    <tr>\n",
       "      <th>21</th>\n",
       "      <td>https://storage.googleapis.com/scanner-prova.a...</td>\n",
       "      <td>[T]Um Dia Estranho\\nnum Dia Frio, Eu peguei me...</td>\n",
       "      <td>True</td>\n",
       "    </tr>\n",
       "    <tr>\n",
       "      <th>23</th>\n",
       "      <td>https://storage.googleapis.com/scanner-prova.a...</td>\n",
       "      <td>[T] A menina nova\\nEra uma vez uma escola muit...</td>\n",
       "      <td>True</td>\n",
       "    </tr>\n",
       "    <tr>\n",
       "      <th>...</th>\n",
       "      <td>...</td>\n",
       "      <td>...</td>\n",
       "      <td>...</td>\n",
       "    </tr>\n",
       "    <tr>\n",
       "      <th>5272</th>\n",
       "      <td>https://storage.googleapis.com/scanner-prova.a...</td>\n",
       "      <td>A minina se chama lisa ela é muito temosa ela ...</td>\n",
       "      <td>True</td>\n",
       "    </tr>\n",
       "    <tr>\n",
       "      <th>5276</th>\n",
       "      <td>https://storage.googleapis.com/scanner-prova.a...</td>\n",
       "      <td>[T] As tintas\\nEu achei uma caixa de tintas e ...</td>\n",
       "      <td>True</td>\n",
       "    </tr>\n",
       "    <tr>\n",
       "      <th>5278</th>\n",
       "      <td>https://storage.googleapis.com/scanner-prova.a...</td>\n",
       "      <td>[T]A menina que gostava de pintar.\\n[P]Era uma...</td>\n",
       "      <td>True</td>\n",
       "    </tr>\n",
       "    <tr>\n",
       "      <th>5279</th>\n",
       "      <td>https://storage.googleapis.com/scanner-prova.a...</td>\n",
       "      <td>[T]A menina que gostava de pintar.\\n[P]Era uma...</td>\n",
       "      <td>True</td>\n",
       "    </tr>\n",
       "    <tr>\n",
       "      <th>5281</th>\n",
       "      <td>https://storage.googleapis.com/scanner-prova.a...</td>\n",
       "      <td>[T] O que aconteceu hoje\\n[P] Hoje de manhã, c...</td>\n",
       "      <td>True</td>\n",
       "    </tr>\n",
       "  </tbody>\n",
       "</table>\n",
       "<p>934 rows × 3 columns</p>\n",
       "</div>"
      ],
      "text/plain": [
       "                                                    url  \\\n",
       "2     https://storage.googleapis.com/scanner-prova.a...   \n",
       "12    https://storage.googleapis.com/scanner-prova.a...   \n",
       "14    https://storage.googleapis.com/scanner-prova.a...   \n",
       "21    https://storage.googleapis.com/scanner-prova.a...   \n",
       "23    https://storage.googleapis.com/scanner-prova.a...   \n",
       "...                                                 ...   \n",
       "5272  https://storage.googleapis.com/scanner-prova.a...   \n",
       "5276  https://storage.googleapis.com/scanner-prova.a...   \n",
       "5278  https://storage.googleapis.com/scanner-prova.a...   \n",
       "5279  https://storage.googleapis.com/scanner-prova.a...   \n",
       "5281  https://storage.googleapis.com/scanner-prova.a...   \n",
       "\n",
       "                                             annotation  good  \n",
       "2     [T] As tintas\\n[P] Um certo dia uma menina cha...  True  \n",
       "12    [T] Os animais que criaram vida\\n[P] Logo desc...  True  \n",
       "14    [T] a historia de maria .\\nEra uma vez , uma m...  True  \n",
       "21    [T]Um Dia Estranho\\nnum Dia Frio, Eu peguei me...  True  \n",
       "23    [T] A menina nova\\nEra uma vez uma escola muit...  True  \n",
       "...                                                 ...   ...  \n",
       "5272  A minina se chama lisa ela é muito temosa ela ...  True  \n",
       "5276  [T] As tintas\\nEu achei uma caixa de tintas e ...  True  \n",
       "5278  [T]A menina que gostava de pintar.\\n[P]Era uma...  True  \n",
       "5279  [T]A menina que gostava de pintar.\\n[P]Era uma...  True  \n",
       "5281  [T] O que aconteceu hoje\\n[P] Hoje de manhã, c...  True  \n",
       "\n",
       "[934 rows x 3 columns]"
      ]
     },
     "execution_count": 14,
     "metadata": {},
     "output_type": "execute_result"
    }
   ],
   "source": [
    "df.to_csv('data/Semana8.csv')"
   ]
  },
  {
   "cell_type": "code",
   "execution_count": 32,
   "metadata": {},
   "outputs": [],
   "source": [
    "import math\n",
    "def split_df_chunks(data_df,chunk_size):\n",
    "    total_length     = len(data_df)\n",
    "    total_chunk_num  = math.ceil(total_length/chunk_size)\n",
    "    normal_chunk_num = math.floor(total_length/chunk_size)\n",
    "    chunks = []\n",
    "    for i in range(normal_chunk_num):\n",
    "        chunk = data_df[(i*chunk_size):((i+1)*chunk_size)]\n",
    "        chunks.append(chunk)\n",
    "    if total_chunk_num > normal_chunk_num:\n",
    "        chunk = data_df[(normal_chunk_num*chunk_size):total_length]\n",
    "        chunks.append(chunk)\n",
    "    return chunks"
   ]
  },
  {
   "cell_type": "code",
   "execution_count": 35,
   "metadata": {},
   "outputs": [],
   "source": [
    "weeks = []\n",
    "for i, subdf in enumerate(split_df_chunks(df, 50), start=9):\n",
    "    subdf = subdf.drop(columns=['good'])\n",
    "    subdf.to_csv(f'data/Semana{i}.csv', index_label='id')\n",
    "    weeks.append(subdf)"
   ]
  },
  {
   "cell_type": "code",
   "execution_count": 34,
   "metadata": {},
   "outputs": [
    {
     "data": {
      "text/plain": [
       "13"
      ]
     },
     "execution_count": 34,
     "metadata": {},
     "output_type": "execute_result"
    }
   ],
   "source": [
    "len(weeks)"
   ]
  },
  {
   "cell_type": "code",
   "execution_count": 54,
   "metadata": {},
   "outputs": [
    {
     "data": {
      "application/vnd.jupyter.widget-view+json": {
       "model_id": "5b465ef7b64c46e1946319d029d254b7",
       "version_major": 2,
       "version_minor": 0
      },
      "text/plain": [
       "HBox(children=(Button(button_style='info', description='Voltar', style=ButtonStyle()), Button(button_style='su…"
      ]
     },
     "metadata": {},
     "output_type": "display_data"
    },
    {
     "data": {
      "application/vnd.jupyter.widget-view+json": {
       "model_id": "454899eaf4a84fc0bc79fb868013a340",
       "version_major": 2,
       "version_minor": 0
      },
      "text/plain": [
       "Output()"
      ]
     },
     "metadata": {},
     "output_type": "display_data"
    }
   ],
   "source": [
    "app = ManualSelectorApp(weeks[0].assign(good=True))\n",
    "app.display()"
   ]
  },
  {
   "cell_type": "code",
   "execution_count": null,
   "metadata": {},
   "outputs": [],
   "source": []
  }
 ],
 "metadata": {
  "kernelspec": {
   "display_name": "Python 3.10.6 64-bit ('nlp')",
   "language": "python",
   "name": "python3"
  },
  "language_info": {
   "codemirror_mode": {
    "name": "ipython",
    "version": 3
   },
   "file_extension": ".py",
   "mimetype": "text/x-python",
   "name": "python",
   "nbconvert_exporter": "python",
   "pygments_lexer": "ipython3",
   "version": "3.10.6"
  },
  "orig_nbformat": 4,
  "vscode": {
   "interpreter": {
    "hash": "5f684ca7ce336497ee3e826898578d82ab5701ce04e12a8a77bd89c6297e247b"
   }
  }
 },
 "nbformat": 4,
 "nbformat_minor": 2
}
